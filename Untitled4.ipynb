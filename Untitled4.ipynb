{
  "nbformat": 4,
  "nbformat_minor": 0,
  "metadata": {
    "colab": {
      "provenance": [],
      "authorship_tag": "ABX9TyMtYZlac2V5CWWyH9S0T8Ci",
      "include_colab_link": true
    },
    "kernelspec": {
      "name": "python3",
      "display_name": "Python 3"
    },
    "language_info": {
      "name": "python"
    }
  },
  "cells": [
    {
      "cell_type": "markdown",
      "metadata": {
        "id": "view-in-github",
        "colab_type": "text"
      },
      "source": [
        "<a href=\"https://colab.research.google.com/github/MeenakshiRajpurohit/CMPE180A/blob/main/Untitled4.ipynb\" target=\"_parent\"><img src=\"https://colab.research.google.com/assets/colab-badge.svg\" alt=\"Open In Colab\"/></a>"
      ]
    },
    {
      "cell_type": "code",
      "execution_count": 41,
      "metadata": {
        "id": "9INWLqElAASy"
      },
      "outputs": [],
      "source": [
        "import pandas as pd\n",
        "import numpy as np\n",
        "import matplotlib.pyplot as plt\n",
        "import seaborn as sns"
      ]
    },
    {
      "cell_type": "code",
      "source": [
        "file_path = '/content/alzheimers_disease_data.csv'"
      ],
      "metadata": {
        "id": "2T6U4ywxBoCV"
      },
      "execution_count": 42,
      "outputs": []
    },
    {
      "cell_type": "code",
      "source": [
        "try:\n",
        "  df = pd.read_csv(file_path)\n",
        "except FileNotFoundError:\n",
        "  print(f'Error: File not found at {file_path}')\n",
        "  print('please ensure the file path is correct')\n",
        "  exit()"
      ],
      "metadata": {
        "id": "ePR4TyDvBn_g"
      },
      "execution_count": 43,
      "outputs": []
    },
    {
      "cell_type": "code",
      "source": [
        "df.head #first five rows"
      ],
      "metadata": {
        "colab": {
          "base_uri": "https://localhost:8080/",
          "height": 187
        },
        "id": "x3b3FEidBn8h",
        "outputId": "db0f9415-2e19-484b-92ab-6a96a31d7d7a"
      },
      "execution_count": 44,
      "outputs": [
        {
          "output_type": "execute_result",
          "data": {
            "text/plain": [
              "<bound method NDFrame.head of       PatientID  Age  Gender  Ethnicity  EducationLevel        BMI  Smoking  \\\n",
              "0          4751   73       0          0               2  22.927749        0   \n",
              "1          4752   89       0          0               0  26.827681        0   \n",
              "2          4753   73       0          3               1  17.795882        0   \n",
              "3          4754   74       1          0               1  33.800817        1   \n",
              "4          4755   89       0          0               0  20.716974        0   \n",
              "...         ...  ...     ...        ...             ...        ...      ...   \n",
              "2144       6895   61       0          0               1  39.121757        0   \n",
              "2145       6896   75       0          0               2  17.857903        0   \n",
              "2146       6897   77       0          0               1  15.476479        0   \n",
              "2147       6898   78       1          3               1  15.299911        0   \n",
              "2148       6899   72       0          0               2  33.289738        0   \n",
              "\n",
              "      AlcoholConsumption  PhysicalActivity  DietQuality  ...  \\\n",
              "0              13.297218          6.327112     1.347214  ...   \n",
              "1               4.542524          7.619885     0.518767  ...   \n",
              "2              19.555085          7.844988     1.826335  ...   \n",
              "3              12.209266          8.428001     7.435604  ...   \n",
              "4              18.454356          6.310461     0.795498  ...   \n",
              "...                  ...               ...          ...  ...   \n",
              "2144            1.561126          4.049964     6.555306  ...   \n",
              "2145           18.767261          1.360667     2.904662  ...   \n",
              "2146            4.594670          9.886002     8.120025  ...   \n",
              "2147            8.674505          6.354282     1.263427  ...   \n",
              "2148            7.890703          6.570993     7.941404  ...   \n",
              "\n",
              "      MemoryComplaints  BehavioralProblems       ADL  Confusion  \\\n",
              "0                    0                   0  1.725883          0   \n",
              "1                    0                   0  2.592424          0   \n",
              "2                    0                   0  7.119548          0   \n",
              "3                    0                   1  6.481226          0   \n",
              "4                    0                   0  0.014691          0   \n",
              "...                ...                 ...       ...        ...   \n",
              "2144                 0                   0  4.492838          1   \n",
              "2145                 0                   1  9.204952          0   \n",
              "2146                 0                   0  5.036334          0   \n",
              "2147                 0                   0  3.785399          0   \n",
              "2148                 0                   1  8.327563          0   \n",
              "\n",
              "      Disorientation  PersonalityChanges  DifficultyCompletingTasks  \\\n",
              "0                  0                   0                          1   \n",
              "1                  0                   0                          0   \n",
              "2                  1                   0                          1   \n",
              "3                  0                   0                          0   \n",
              "4                  0                   1                          1   \n",
              "...              ...                 ...                        ...   \n",
              "2144               0                   0                          0   \n",
              "2145               0                   0                          0   \n",
              "2146               0                   0                          0   \n",
              "2147               0                   0                          0   \n",
              "2148               1                   0                          0   \n",
              "\n",
              "      Forgetfulness  Diagnosis  DoctorInCharge  \n",
              "0                 0          0       XXXConfid  \n",
              "1                 1          0       XXXConfid  \n",
              "2                 0          0       XXXConfid  \n",
              "3                 0          0       XXXConfid  \n",
              "4                 0          0       XXXConfid  \n",
              "...             ...        ...             ...  \n",
              "2144              0          1       XXXConfid  \n",
              "2145              0          1       XXXConfid  \n",
              "2146              0          1       XXXConfid  \n",
              "2147              1          1       XXXConfid  \n",
              "2148              1          0       XXXConfid  \n",
              "\n",
              "[2149 rows x 35 columns]>"
            ],
            "text/html": [
              "<div style=\"max-width:800px; border: 1px solid var(--colab-border-color);\"><style>\n",
              "      pre.function-repr-contents {\n",
              "        overflow-x: auto;\n",
              "        padding: 8px 12px;\n",
              "        max-height: 500px;\n",
              "      }\n",
              "\n",
              "      pre.function-repr-contents.function-repr-contents-collapsed {\n",
              "        cursor: pointer;\n",
              "        max-height: 100px;\n",
              "      }\n",
              "    </style>\n",
              "    <pre style=\"white-space: initial; background:\n",
              "         var(--colab-secondary-surface-color); padding: 8px 12px;\n",
              "         border-bottom: 1px solid var(--colab-border-color);\"><b>pandas.core.generic.NDFrame.head</b><br/>def head(n: int=5) -&gt; Self</pre><pre class=\"function-repr-contents function-repr-contents-collapsed\" style=\"\"><a class=\"filepath\" style=\"display:none\" href=\"#\">/usr/local/lib/python3.12/dist-packages/pandas/core/generic.py</a>Return the first `n` rows.\n",
              "\n",
              "This function returns the first `n` rows for the object based\n",
              "on position. It is useful for quickly testing if your object\n",
              "has the right type of data in it.\n",
              "\n",
              "For negative values of `n`, this function returns all rows except\n",
              "the last `|n|` rows, equivalent to ``df[:n]``.\n",
              "\n",
              "If n is larger than the number of rows, this function returns all rows.\n",
              "\n",
              "Parameters\n",
              "----------\n",
              "n : int, default 5\n",
              "    Number of rows to select.\n",
              "\n",
              "Returns\n",
              "-------\n",
              "same type as caller\n",
              "    The first `n` rows of the caller object.\n",
              "\n",
              "See Also\n",
              "--------\n",
              "DataFrame.tail: Returns the last `n` rows.\n",
              "\n",
              "Examples\n",
              "--------\n",
              "&gt;&gt;&gt; df = pd.DataFrame({&#x27;animal&#x27;: [&#x27;alligator&#x27;, &#x27;bee&#x27;, &#x27;falcon&#x27;, &#x27;lion&#x27;,\n",
              "...                    &#x27;monkey&#x27;, &#x27;parrot&#x27;, &#x27;shark&#x27;, &#x27;whale&#x27;, &#x27;zebra&#x27;]})\n",
              "&gt;&gt;&gt; df\n",
              "      animal\n",
              "0  alligator\n",
              "1        bee\n",
              "2     falcon\n",
              "3       lion\n",
              "4     monkey\n",
              "5     parrot\n",
              "6      shark\n",
              "7      whale\n",
              "8      zebra\n",
              "\n",
              "Viewing the first 5 lines\n",
              "\n",
              "&gt;&gt;&gt; df.head()\n",
              "      animal\n",
              "0  alligator\n",
              "1        bee\n",
              "2     falcon\n",
              "3       lion\n",
              "4     monkey\n",
              "\n",
              "Viewing the first `n` lines (three in this case)\n",
              "\n",
              "&gt;&gt;&gt; df.head(3)\n",
              "      animal\n",
              "0  alligator\n",
              "1        bee\n",
              "2     falcon\n",
              "\n",
              "For negative values of `n`\n",
              "\n",
              "&gt;&gt;&gt; df.head(-3)\n",
              "      animal\n",
              "0  alligator\n",
              "1        bee\n",
              "2     falcon\n",
              "3       lion\n",
              "4     monkey\n",
              "5     parrot</pre>\n",
              "      <script>\n",
              "      if (google.colab.kernel.accessAllowed && google.colab.files && google.colab.files.view) {\n",
              "        for (const element of document.querySelectorAll('.filepath')) {\n",
              "          element.style.display = 'block'\n",
              "          element.onclick = (event) => {\n",
              "            event.preventDefault();\n",
              "            event.stopPropagation();\n",
              "            google.colab.files.view(element.textContent, 5818);\n",
              "          };\n",
              "        }\n",
              "      }\n",
              "      for (const element of document.querySelectorAll('.function-repr-contents')) {\n",
              "        element.onclick = (event) => {\n",
              "          event.preventDefault();\n",
              "          event.stopPropagation();\n",
              "          element.classList.toggle('function-repr-contents-collapsed');\n",
              "        };\n",
              "      }\n",
              "      </script>\n",
              "      </div>"
            ]
          },
          "metadata": {},
          "execution_count": 44
        }
      ]
    },
    {
      "cell_type": "code",
      "source": [
        "df.info #Dataset info"
      ],
      "metadata": {
        "colab": {
          "base_uri": "https://localhost:8080/",
          "height": 204
        },
        "id": "uB7bYZpCBn51",
        "outputId": "39aa0fda-711f-405b-f8dc-a891423db79f"
      },
      "execution_count": 45,
      "outputs": [
        {
          "output_type": "execute_result",
          "data": {
            "text/plain": [
              "<bound method DataFrame.info of       PatientID  Age  Gender  Ethnicity  EducationLevel        BMI  Smoking  \\\n",
              "0          4751   73       0          0               2  22.927749        0   \n",
              "1          4752   89       0          0               0  26.827681        0   \n",
              "2          4753   73       0          3               1  17.795882        0   \n",
              "3          4754   74       1          0               1  33.800817        1   \n",
              "4          4755   89       0          0               0  20.716974        0   \n",
              "...         ...  ...     ...        ...             ...        ...      ...   \n",
              "2144       6895   61       0          0               1  39.121757        0   \n",
              "2145       6896   75       0          0               2  17.857903        0   \n",
              "2146       6897   77       0          0               1  15.476479        0   \n",
              "2147       6898   78       1          3               1  15.299911        0   \n",
              "2148       6899   72       0          0               2  33.289738        0   \n",
              "\n",
              "      AlcoholConsumption  PhysicalActivity  DietQuality  ...  \\\n",
              "0              13.297218          6.327112     1.347214  ...   \n",
              "1               4.542524          7.619885     0.518767  ...   \n",
              "2              19.555085          7.844988     1.826335  ...   \n",
              "3              12.209266          8.428001     7.435604  ...   \n",
              "4              18.454356          6.310461     0.795498  ...   \n",
              "...                  ...               ...          ...  ...   \n",
              "2144            1.561126          4.049964     6.555306  ...   \n",
              "2145           18.767261          1.360667     2.904662  ...   \n",
              "2146            4.594670          9.886002     8.120025  ...   \n",
              "2147            8.674505          6.354282     1.263427  ...   \n",
              "2148            7.890703          6.570993     7.941404  ...   \n",
              "\n",
              "      MemoryComplaints  BehavioralProblems       ADL  Confusion  \\\n",
              "0                    0                   0  1.725883          0   \n",
              "1                    0                   0  2.592424          0   \n",
              "2                    0                   0  7.119548          0   \n",
              "3                    0                   1  6.481226          0   \n",
              "4                    0                   0  0.014691          0   \n",
              "...                ...                 ...       ...        ...   \n",
              "2144                 0                   0  4.492838          1   \n",
              "2145                 0                   1  9.204952          0   \n",
              "2146                 0                   0  5.036334          0   \n",
              "2147                 0                   0  3.785399          0   \n",
              "2148                 0                   1  8.327563          0   \n",
              "\n",
              "      Disorientation  PersonalityChanges  DifficultyCompletingTasks  \\\n",
              "0                  0                   0                          1   \n",
              "1                  0                   0                          0   \n",
              "2                  1                   0                          1   \n",
              "3                  0                   0                          0   \n",
              "4                  0                   1                          1   \n",
              "...              ...                 ...                        ...   \n",
              "2144               0                   0                          0   \n",
              "2145               0                   0                          0   \n",
              "2146               0                   0                          0   \n",
              "2147               0                   0                          0   \n",
              "2148               1                   0                          0   \n",
              "\n",
              "      Forgetfulness  Diagnosis  DoctorInCharge  \n",
              "0                 0          0       XXXConfid  \n",
              "1                 1          0       XXXConfid  \n",
              "2                 0          0       XXXConfid  \n",
              "3                 0          0       XXXConfid  \n",
              "4                 0          0       XXXConfid  \n",
              "...             ...        ...             ...  \n",
              "2144              0          1       XXXConfid  \n",
              "2145              0          1       XXXConfid  \n",
              "2146              0          1       XXXConfid  \n",
              "2147              1          1       XXXConfid  \n",
              "2148              1          0       XXXConfid  \n",
              "\n",
              "[2149 rows x 35 columns]>"
            ],
            "text/html": [
              "<div style=\"max-width:800px; border: 1px solid var(--colab-border-color);\"><style>\n",
              "      pre.function-repr-contents {\n",
              "        overflow-x: auto;\n",
              "        padding: 8px 12px;\n",
              "        max-height: 500px;\n",
              "      }\n",
              "\n",
              "      pre.function-repr-contents.function-repr-contents-collapsed {\n",
              "        cursor: pointer;\n",
              "        max-height: 100px;\n",
              "      }\n",
              "    </style>\n",
              "    <pre style=\"white-space: initial; background:\n",
              "         var(--colab-secondary-surface-color); padding: 8px 12px;\n",
              "         border-bottom: 1px solid var(--colab-border-color);\"><b>pandas.core.frame.DataFrame.info</b><br/>def info(verbose: bool | None=None, buf: WriteBuffer[str] | None=None, max_cols: int | None=None, memory_usage: bool | str | None=None, show_counts: bool | None=None) -&gt; None</pre><pre class=\"function-repr-contents function-repr-contents-collapsed\" style=\"\"><a class=\"filepath\" style=\"display:none\" href=\"#\">/usr/local/lib/python3.12/dist-packages/pandas/core/frame.py</a>Print a concise summary of a DataFrame.\n",
              "\n",
              "This method prints information about a DataFrame including\n",
              "the index dtype and columns, non-null values and memory usage.\n",
              "\n",
              "Parameters\n",
              "----------\n",
              "verbose : bool, optional\n",
              "    Whether to print the full summary. By default, the setting in\n",
              "    ``pandas.options.display.max_info_columns`` is followed.\n",
              "buf : writable buffer, defaults to sys.stdout\n",
              "    Where to send the output. By default, the output is printed to\n",
              "    sys.stdout. Pass a writable buffer if you need to further process\n",
              "    the output.\n",
              "max_cols : int, optional\n",
              "    When to switch from the verbose to the truncated output. If the\n",
              "    DataFrame has more than `max_cols` columns, the truncated output\n",
              "    is used. By default, the setting in\n",
              "    ``pandas.options.display.max_info_columns`` is used.\n",
              "memory_usage : bool, str, optional\n",
              "    Specifies whether total memory usage of the DataFrame\n",
              "    elements (including the index) should be displayed. By default,\n",
              "    this follows the ``pandas.options.display.memory_usage`` setting.\n",
              "\n",
              "    True always show memory usage. False never shows memory usage.\n",
              "    A value of &#x27;deep&#x27; is equivalent to &quot;True with deep introspection&quot;.\n",
              "    Memory usage is shown in human-readable units (base-2\n",
              "    representation). Without deep introspection a memory estimation is\n",
              "    made based in column dtype and number of rows assuming values\n",
              "    consume the same memory amount for corresponding dtypes. With deep\n",
              "    memory introspection, a real memory usage calculation is performed\n",
              "    at the cost of computational resources. See the\n",
              "    :ref:`Frequently Asked Questions &lt;df-memory-usage&gt;` for more\n",
              "    details.\n",
              "show_counts : bool, optional\n",
              "    Whether to show the non-null counts. By default, this is shown\n",
              "    only if the DataFrame is smaller than\n",
              "    ``pandas.options.display.max_info_rows`` and\n",
              "    ``pandas.options.display.max_info_columns``. A value of True always\n",
              "    shows the counts, and False never shows the counts.\n",
              "\n",
              "Returns\n",
              "-------\n",
              "None\n",
              "    This method prints a summary of a DataFrame and returns None.\n",
              "\n",
              "See Also\n",
              "--------\n",
              "DataFrame.describe: Generate descriptive statistics of DataFrame\n",
              "    columns.\n",
              "DataFrame.memory_usage: Memory usage of DataFrame columns.\n",
              "\n",
              "Examples\n",
              "--------\n",
              "&gt;&gt;&gt; int_values = [1, 2, 3, 4, 5]\n",
              "&gt;&gt;&gt; text_values = [&#x27;alpha&#x27;, &#x27;beta&#x27;, &#x27;gamma&#x27;, &#x27;delta&#x27;, &#x27;epsilon&#x27;]\n",
              "&gt;&gt;&gt; float_values = [0.0, 0.25, 0.5, 0.75, 1.0]\n",
              "&gt;&gt;&gt; df = pd.DataFrame({&quot;int_col&quot;: int_values, &quot;text_col&quot;: text_values,\n",
              "...                   &quot;float_col&quot;: float_values})\n",
              "&gt;&gt;&gt; df\n",
              "    int_col text_col  float_col\n",
              "0        1    alpha       0.00\n",
              "1        2     beta       0.25\n",
              "2        3    gamma       0.50\n",
              "3        4    delta       0.75\n",
              "4        5  epsilon       1.00\n",
              "\n",
              "Prints information of all columns:\n",
              "\n",
              "&gt;&gt;&gt; df.info(verbose=True)\n",
              "&lt;class &#x27;pandas.core.frame.DataFrame&#x27;&gt;\n",
              "RangeIndex: 5 entries, 0 to 4\n",
              "Data columns (total 3 columns):\n",
              " #   Column     Non-Null Count  Dtype\n",
              "---  ------     --------------  -----\n",
              " 0   int_col    5 non-null      int64\n",
              " 1   text_col   5 non-null      object\n",
              " 2   float_col  5 non-null      float64\n",
              "dtypes: float64(1), int64(1), object(1)\n",
              "memory usage: 248.0+ bytes\n",
              "\n",
              "Prints a summary of columns count and its dtypes but not per column\n",
              "information:\n",
              "\n",
              "&gt;&gt;&gt; df.info(verbose=False)\n",
              "&lt;class &#x27;pandas.core.frame.DataFrame&#x27;&gt;\n",
              "RangeIndex: 5 entries, 0 to 4\n",
              "Columns: 3 entries, int_col to float_col\n",
              "dtypes: float64(1), int64(1), object(1)\n",
              "memory usage: 248.0+ bytes\n",
              "\n",
              "Pipe output of DataFrame.info to buffer instead of sys.stdout, get\n",
              "buffer content and writes to a text file:\n",
              "\n",
              "&gt;&gt;&gt; import io\n",
              "&gt;&gt;&gt; buffer = io.StringIO()\n",
              "&gt;&gt;&gt; df.info(buf=buffer)\n",
              "&gt;&gt;&gt; s = buffer.getvalue()\n",
              "&gt;&gt;&gt; with open(&quot;df_info.txt&quot;, &quot;w&quot;,\n",
              "...           encoding=&quot;utf-8&quot;) as f:  # doctest: +SKIP\n",
              "...     f.write(s)\n",
              "260\n",
              "\n",
              "The `memory_usage` parameter allows deep introspection mode, specially\n",
              "useful for big DataFrames and fine-tune memory optimization:\n",
              "\n",
              "&gt;&gt;&gt; random_strings_array = np.random.choice([&#x27;a&#x27;, &#x27;b&#x27;, &#x27;c&#x27;], 10 ** 6)\n",
              "&gt;&gt;&gt; df = pd.DataFrame({\n",
              "...     &#x27;column_1&#x27;: np.random.choice([&#x27;a&#x27;, &#x27;b&#x27;, &#x27;c&#x27;], 10 ** 6),\n",
              "...     &#x27;column_2&#x27;: np.random.choice([&#x27;a&#x27;, &#x27;b&#x27;, &#x27;c&#x27;], 10 ** 6),\n",
              "...     &#x27;column_3&#x27;: np.random.choice([&#x27;a&#x27;, &#x27;b&#x27;, &#x27;c&#x27;], 10 ** 6)\n",
              "... })\n",
              "&gt;&gt;&gt; df.info()\n",
              "&lt;class &#x27;pandas.core.frame.DataFrame&#x27;&gt;\n",
              "RangeIndex: 1000000 entries, 0 to 999999\n",
              "Data columns (total 3 columns):\n",
              " #   Column    Non-Null Count    Dtype\n",
              "---  ------    --------------    -----\n",
              " 0   column_1  1000000 non-null  object\n",
              " 1   column_2  1000000 non-null  object\n",
              " 2   column_3  1000000 non-null  object\n",
              "dtypes: object(3)\n",
              "memory usage: 22.9+ MB\n",
              "\n",
              "&gt;&gt;&gt; df.info(memory_usage=&#x27;deep&#x27;)\n",
              "&lt;class &#x27;pandas.core.frame.DataFrame&#x27;&gt;\n",
              "RangeIndex: 1000000 entries, 0 to 999999\n",
              "Data columns (total 3 columns):\n",
              " #   Column    Non-Null Count    Dtype\n",
              "---  ------    --------------    -----\n",
              " 0   column_1  1000000 non-null  object\n",
              " 1   column_2  1000000 non-null  object\n",
              " 2   column_3  1000000 non-null  object\n",
              "dtypes: object(3)\n",
              "memory usage: 165.9 MB</pre>\n",
              "      <script>\n",
              "      if (google.colab.kernel.accessAllowed && google.colab.files && google.colab.files.view) {\n",
              "        for (const element of document.querySelectorAll('.filepath')) {\n",
              "          element.style.display = 'block'\n",
              "          element.onclick = (event) => {\n",
              "            event.preventDefault();\n",
              "            event.stopPropagation();\n",
              "            google.colab.files.view(element.textContent, 3646);\n",
              "          };\n",
              "        }\n",
              "      }\n",
              "      for (const element of document.querySelectorAll('.function-repr-contents')) {\n",
              "        element.onclick = (event) => {\n",
              "          event.preventDefault();\n",
              "          event.stopPropagation();\n",
              "          element.classList.toggle('function-repr-contents-collapsed');\n",
              "        };\n",
              "      }\n",
              "      </script>\n",
              "      </div>"
            ]
          },
          "metadata": {},
          "execution_count": 45
        }
      ]
    },
    {
      "cell_type": "code",
      "source": [
        "df = df.drop(['PatientID', 'DoctorInCharge'], axis=1)"
      ],
      "metadata": {
        "id": "zPAToMFqCDJw"
      },
      "execution_count": 46,
      "outputs": []
    },
    {
      "cell_type": "code",
      "source": [
        "print(f'Missing value before handling {df.isnull().sum().sum()}')"
      ],
      "metadata": {
        "colab": {
          "base_uri": "https://localhost:8080/"
        },
        "id": "WhzoIm-uCDGs",
        "outputId": "be391b15-bc23-4478-a612-28ae453633c9"
      },
      "execution_count": 47,
      "outputs": [
        {
          "output_type": "stream",
          "name": "stdout",
          "text": [
            "Missing value before handling 0\n"
          ]
        }
      ]
    },
    {
      "cell_type": "code",
      "source": [
        "X = df.drop('Diagnosis', axis =1)\n",
        "y = df['Diagnosis']"
      ],
      "metadata": {
        "id": "kX2ptJSpCDDh"
      },
      "execution_count": 48,
      "outputs": []
    },
    {
      "cell_type": "code",
      "source": [
        "print(f'Target value distribution {y.value_counts()}')"
      ],
      "metadata": {
        "colab": {
          "base_uri": "https://localhost:8080/"
        },
        "id": "XXTrGO_oCDAe",
        "outputId": "32433710-f5c6-4293-e33f-5c1ec8e74701"
      },
      "execution_count": 49,
      "outputs": [
        {
          "output_type": "stream",
          "name": "stdout",
          "text": [
            "Target value distribution Diagnosis\n",
            "0    1389\n",
            "1     760\n",
            "Name: count, dtype: int64\n"
          ]
        }
      ]
    },
    {
      "cell_type": "code",
      "source": [
        "from sklearn.model_selection import train_test_split"
      ],
      "metadata": {
        "id": "vChIyfMFFT6p"
      },
      "execution_count": 50,
      "outputs": []
    },
    {
      "cell_type": "code",
      "source": [
        "X_train, X_test, y_train, y_test = train_test_split(X, y, test_size= 0.2, random_state=42)"
      ],
      "metadata": {
        "id": "GDE8vv2pFtVn"
      },
      "execution_count": 51,
      "outputs": []
    },
    {
      "cell_type": "code",
      "source": [
        "from sklearn.preprocessing import StandardScaler"
      ],
      "metadata": {
        "id": "FTNCJZV2GGMe"
      },
      "execution_count": 52,
      "outputs": []
    },
    {
      "cell_type": "code",
      "source": [
        "scaler = StandardScaler()\n",
        "X_train_scaled = scaler.fit_transform(X_train)\n",
        "X_test_scaled = scaler.transform(X_test)"
      ],
      "metadata": {
        "id": "EzIY5gPiGM-x"
      },
      "execution_count": 53,
      "outputs": []
    },
    {
      "cell_type": "code",
      "source": [
        "from sklearn.ensemble import RandomForestClassifier\n",
        "from sklearn.metrics import accuracy_score, classification_report, confusion_matrix"
      ],
      "metadata": {
        "id": "B5dO-F1FHgV-"
      },
      "execution_count": 54,
      "outputs": []
    },
    {
      "cell_type": "code",
      "source": [
        "model = RandomForestClassifier(n_estimators = 100, random_state=42, class_weight='balanced', n_jobs = -1)\n",
        "model.fit"
      ],
      "metadata": {
        "id": "NmgxlvpXHGeZ"
      },
      "execution_count": 55,
      "outputs": []
    }
  ]
}