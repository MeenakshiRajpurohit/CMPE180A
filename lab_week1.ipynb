{
  "nbformat": 4,
  "nbformat_minor": 0,
  "metadata": {
    "colab": {
      "provenance": [],
      "authorship_tag": "ABX9TyMa3lRb/Fx+mYRXVYl7pLXy",
      "include_colab_link": true
    },
    "kernelspec": {
      "name": "python3",
      "display_name": "Python 3"
    },
    "language_info": {
      "name": "python"
    }
  },
  "cells": [
    {
      "cell_type": "markdown",
      "metadata": {
        "id": "view-in-github",
        "colab_type": "text"
      },
      "source": [
        "<a href=\"https://colab.research.google.com/github/MeenakshiRajpurohit/CMPE180A/blob/main/lab_week1.ipynb\" target=\"_parent\"><img src=\"https://colab.research.google.com/assets/colab-badge.svg\" alt=\"Open In Colab\"/></a>"
      ]
    },
    {
      "cell_type": "code",
      "execution_count": null,
      "metadata": {
        "colab": {
          "base_uri": "https://localhost:8080/"
        },
        "id": "X0PXIIDps-V8",
        "outputId": "c3c0688d-45d2-49b2-d119-75ef1ca849c1"
      },
      "outputs": [
        {
          "output_type": "stream",
          "name": "stdout",
          "text": [
            "welcome to the calculator\n",
            "Please enter all your letter grades, one per line\n",
            "Enter a blank line to designate the end\n",
            "A\n",
            "A\n",
            "A\n",
            "\n",
            "your gpa is 4.0.\n"
          ]
        }
      ],
      "source": [
        "print('welcome to the calculator')\n",
        "print('Please enter all your letter grades, one per line')\n",
        "print('Enter a blank line to designate the end')\n",
        "\n",
        "points = {'A+': 4.0,'A': 4.0, 'A-':3.67, 'B+':3.33, 'B':3.0, 'B-':2.67, 'C+':2.33, 'C':2.0, 'C-':1.67 ,'D+':1.33, 'D': 1.0, 'F':0.0}\n",
        "\n",
        "num_course = 0\n",
        "total_points = 0\n",
        "done = False\n",
        "while not done:\n",
        "    grade = input()\n",
        "    if grade == '':\n",
        "        done = True\n",
        "    elif grade not in points:\n",
        "        print(\"Unknown grade {0} being ignored\".format(grade))\n",
        "    else:\n",
        "        num_course += 1\n",
        "        total_points = total_points + points[grade]\n",
        "\n",
        "if num_course > 0:\n",
        "    print('your gpa is {0:.3}.'.format(total_points / num_course))"
      ]
    },
    {
      "cell_type": "code",
      "source": [
        "#Simple input/ output\n",
        "\n",
        "age = int(input('Enter your age:'))\n",
        "max_heart_rate = 206.9 - (0.67 * age)\n",
        "target = 0.65 * max_heart_rate\n",
        "print('Your target fat-burning heart rate is', target)"
      ],
      "metadata": {
        "colab": {
          "base_uri": "https://localhost:8080/"
        },
        "id": "BIA8N2BJzpCO",
        "outputId": "187c2c2b-22d2-4835-a5b9-27dd8a075db6"
      },
      "execution_count": null,
      "outputs": [
        {
          "output_type": "stream",
          "name": "stdout",
          "text": [
            "Enter your age:31\n",
            "Your target fat-burning heart rate is 120.9845\n"
          ]
        }
      ]
    },
    {
      "cell_type": "code",
      "source": [
        "name = input('what is your name')\n",
        "print(name)"
      ],
      "metadata": {
        "colab": {
          "base_uri": "https://localhost:8080/"
        },
        "id": "qMOnkRzM2QGy",
        "outputId": "2e46ed3b-6510-49c8-ac56-4d9170287884"
      },
      "execution_count": null,
      "outputs": [
        {
          "output_type": "stream",
          "name": "stdout",
          "text": [
            "what is your nameMEENA\n",
            "MEENA\n"
          ]
        }
      ]
    },
    {
      "cell_type": "code",
      "source": [
        "temperature = 98.6\n",
        "origin = temperature\n",
        "print('origin is:', origin)\n",
        "print('temperature is:', temperature)\n",
        "print(id(temperature))\n",
        "print(id(origin))"
      ],
      "metadata": {
        "colab": {
          "base_uri": "https://localhost:8080/"
        },
        "id": "9zaJOG-o2jDR",
        "outputId": "8eb49cd4-eee4-4735-897c-00b5364cb311"
      },
      "execution_count": null,
      "outputs": [
        {
          "output_type": "stream",
          "name": "stdout",
          "text": [
            "origin is: 98.6\n",
            "temperature is: 98.6\n",
            "137928080007824\n",
            "137928080007824\n"
          ]
        }
      ]
    },
    {
      "cell_type": "code",
      "source": [
        "temperature = temperature + 5\n",
        "print('origin is:', origin)\n",
        "print('temperature is:', temperature)\n",
        "\n",
        "print(id(temperature))\n",
        "print(id(origin))"
      ],
      "metadata": {
        "colab": {
          "base_uri": "https://localhost:8080/"
        },
        "id": "llx-7Uza3kuK",
        "outputId": "3df37ad1-0d66-4215-a2a6-a7150e09781e"
      },
      "execution_count": null,
      "outputs": [
        {
          "output_type": "stream",
          "name": "stdout",
          "text": [
            "origin is: 98.6\n",
            "temperature is: 103.6\n",
            "137928079999408\n",
            "137928080007824\n"
          ]
        }
      ]
    },
    {
      "cell_type": "code",
      "source": [
        "type(temperature)\n",
        "type(origin)"
      ],
      "metadata": {
        "colab": {
          "base_uri": "https://localhost:8080/"
        },
        "id": "Iq75KMcm4Inn",
        "outputId": "d926ef6a-87c8-472e-a00c-c42e918bdae9"
      },
      "execution_count": null,
      "outputs": [
        {
          "output_type": "execute_result",
          "data": {
            "text/plain": [
              "float"
            ]
          },
          "metadata": {},
          "execution_count": 45
        }
      ]
    },
    {
      "cell_type": "code",
      "source": [
        "temperature = 'warm'\n",
        "type(temperature)"
      ],
      "metadata": {
        "colab": {
          "base_uri": "https://localhost:8080/"
        },
        "id": "B8W2KdU54Pfl",
        "outputId": "699f4b36-feb8-43ec-fe2e-c538f4584ca8"
      },
      "execution_count": null,
      "outputs": [
        {
          "output_type": "execute_result",
          "data": {
            "text/plain": [
              "str"
            ]
          },
          "metadata": {},
          "execution_count": 46
        }
      ]
    },
    {
      "cell_type": "code",
      "source": [
        "#python interpreter\n",
        "\n",
        "int('137')"
      ],
      "metadata": {
        "colab": {
          "base_uri": "https://localhost:8080/"
        },
        "id": "kBHBe0pY4h0q",
        "outputId": "e3b2fdcb-a3dc-49ba-86b8-4607a80bfd4b"
      },
      "execution_count": null,
      "outputs": [
        {
          "output_type": "execute_result",
          "data": {
            "text/plain": [
              "137"
            ]
          },
          "metadata": {},
          "execution_count": 47
        }
      ]
    },
    {
      "cell_type": "code",
      "source": [
        "int('a')"
      ],
      "metadata": {
        "colab": {
          "base_uri": "https://localhost:8080/",
          "height": 173
        },
        "id": "1gKKCkJk4nNy",
        "outputId": "5835b01b-c634-42e4-d266-dc0ca486b88c"
      },
      "execution_count": null,
      "outputs": [
        {
          "output_type": "error",
          "ename": "ValueError",
          "evalue": "invalid literal for int() with base 10: 'a'",
          "traceback": [
            "\u001b[0;31m---------------------------------------------------------------------------\u001b[0m",
            "\u001b[0;31mValueError\u001b[0m                                Traceback (most recent call last)",
            "\u001b[0;32m/tmp/ipython-input-2121867093.py\u001b[0m in \u001b[0;36m<cell line: 0>\u001b[0;34m()\u001b[0m\n\u001b[0;32m----> 1\u001b[0;31m \u001b[0mint\u001b[0m\u001b[0;34m(\u001b[0m\u001b[0;34m'a'\u001b[0m\u001b[0;34m)\u001b[0m\u001b[0;34m\u001b[0m\u001b[0;34m\u001b[0m\u001b[0m\n\u001b[0m",
            "\u001b[0;31mValueError\u001b[0m: invalid literal for int() with base 10: 'a'"
          ]
        }
      ]
    },
    {
      "cell_type": "code",
      "source": [
        "bool(-1)"
      ],
      "metadata": {
        "colab": {
          "base_uri": "https://localhost:8080/"
        },
        "id": "fWCw99Mz4rNt",
        "outputId": "5ca3aeab-b361-4177-930e-2af6176af2f1"
      },
      "execution_count": null,
      "outputs": [
        {
          "output_type": "execute_result",
          "data": {
            "text/plain": [
              "True"
            ]
          },
          "metadata": {},
          "execution_count": 49
        }
      ]
    },
    {
      "cell_type": "code",
      "source": [
        "bool(0)"
      ],
      "metadata": {
        "colab": {
          "base_uri": "https://localhost:8080/"
        },
        "id": "XjNshlmo40Uu",
        "outputId": "22f31407-6aa4-4582-a7d0-ba2fcccf53c4"
      },
      "execution_count": null,
      "outputs": [
        {
          "output_type": "execute_result",
          "data": {
            "text/plain": [
              "False"
            ]
          },
          "metadata": {},
          "execution_count": 50
        }
      ]
    },
    {
      "cell_type": "code",
      "source": [
        "type('a')"
      ],
      "metadata": {
        "colab": {
          "base_uri": "https://localhost:8080/"
        },
        "id": "EsTlLXb_40PI",
        "outputId": "21096afb-68f4-4449-d47b-04f1fc6cbfa7"
      },
      "execution_count": null,
      "outputs": [
        {
          "output_type": "execute_result",
          "data": {
            "text/plain": [
              "str"
            ]
          },
          "metadata": {},
          "execution_count": 52
        }
      ]
    },
    {
      "cell_type": "code",
      "source": [
        "'a' + 'a'"
      ],
      "metadata": {
        "colab": {
          "base_uri": "https://localhost:8080/",
          "height": 37
        },
        "id": "UAncalU440KJ",
        "outputId": "d8806eb5-5ac2-4b5e-97a6-66ceef7eac02"
      },
      "execution_count": null,
      "outputs": [
        {
          "output_type": "execute_result",
          "data": {
            "text/plain": [
              "'aa'"
            ],
            "application/vnd.google.colaboratory.intrinsic+json": {
              "type": "string"
            }
          },
          "metadata": {},
          "execution_count": 54
        }
      ]
    },
    {
      "cell_type": "code",
      "source": [
        "len('abcd')"
      ],
      "metadata": {
        "colab": {
          "base_uri": "https://localhost:8080/"
        },
        "id": "ENIoI-tu40E-",
        "outputId": "75b570bf-004f-481f-c298-69857c881fdc"
      },
      "execution_count": null,
      "outputs": [
        {
          "output_type": "execute_result",
          "data": {
            "text/plain": [
              "4"
            ]
          },
          "metadata": {},
          "execution_count": 55
        }
      ]
    },
    {
      "cell_type": "code",
      "source": [
        "'abcd'[0]"
      ],
      "metadata": {
        "colab": {
          "base_uri": "https://localhost:8080/",
          "height": 37
        },
        "id": "ne86zZu14z9Y",
        "outputId": "cc5c0de1-299f-47cc-9fab-df7804976a2c"
      },
      "execution_count": null,
      "outputs": [
        {
          "output_type": "execute_result",
          "data": {
            "text/plain": [
              "'a'"
            ],
            "application/vnd.google.colaboratory.intrinsic+json": {
              "type": "string"
            }
          },
          "metadata": {},
          "execution_count": 56
        }
      ]
    },
    {
      "cell_type": "code",
      "source": [
        "'abcd'[0:len('abcd')]"
      ],
      "metadata": {
        "colab": {
          "base_uri": "https://localhost:8080/",
          "height": 37
        },
        "id": "i-VRaqj14xeb",
        "outputId": "cf5c3700-762d-44bb-b112-7dbf702a636c"
      },
      "execution_count": null,
      "outputs": [
        {
          "output_type": "execute_result",
          "data": {
            "text/plain": [
              "'abcd'"
            ],
            "application/vnd.google.colaboratory.intrinsic+json": {
              "type": "string"
            }
          },
          "metadata": {},
          "execution_count": 57
        }
      ]
    },
    {
      "cell_type": "code",
      "source": [
        "n = input('enter int value')"
      ],
      "metadata": {
        "colab": {
          "base_uri": "https://localhost:8080/"
        },
        "id": "RJEhCc6B5X-W",
        "outputId": "7860b671-4fb5-4a8f-f539-9b1c396b83e5"
      },
      "execution_count": null,
      "outputs": [
        {
          "name": "stdout",
          "output_type": "stream",
          "text": [
            "enter int value5\n"
          ]
        }
      ]
    },
    {
      "cell_type": "code",
      "source": [
        "#Literals\n",
        "name = 'meenakshi'\n",
        "age = str(31)\n",
        "name\n",
        "age"
      ],
      "metadata": {
        "colab": {
          "base_uri": "https://localhost:8080/",
          "height": 37
        },
        "id": "TefMQW4t5oCq",
        "outputId": "50ee7bf6-dbf3-4ae6-ea5b-55440ec3aeb0"
      },
      "execution_count": null,
      "outputs": [
        {
          "output_type": "execute_result",
          "data": {
            "text/plain": [
              "'31'"
            ],
            "application/vnd.google.colaboratory.intrinsic+json": {
              "type": "string"
            }
          },
          "metadata": {},
          "execution_count": 59
        }
      ]
    },
    {
      "cell_type": "code",
      "source": [
        "names = [name, 'kin', 'jhon']\n",
        "char = list('aeiou')\n",
        "print(names)"
      ],
      "metadata": {
        "colab": {
          "base_uri": "https://localhost:8080/"
        },
        "id": "T1B0VJI65n8C",
        "outputId": "54a44fd3-4b48-4832-c2ca-f288f622183e"
      },
      "execution_count": null,
      "outputs": [
        {
          "output_type": "stream",
          "name": "stdout",
          "text": [
            "['meenakshi', 'kin', 'jhon']\n"
          ]
        }
      ]
    },
    {
      "cell_type": "code",
      "source": [
        "print(id(names))"
      ],
      "metadata": {
        "colab": {
          "base_uri": "https://localhost:8080/"
        },
        "id": "-yKDf4iL5n09",
        "outputId": "f69494ed-a049-4639-e949-29ad26fd4dff"
      },
      "execution_count": null,
      "outputs": [
        {
          "output_type": "stream",
          "name": "stdout",
          "text": [
            "137928079014528\n"
          ]
        }
      ]
    },
    {
      "cell_type": "code",
      "source": [
        "names.append('mike')\n",
        "print(names)\n",
        "print(id(names))"
      ],
      "metadata": {
        "colab": {
          "base_uri": "https://localhost:8080/"
        },
        "id": "cfp8aPmk5nvA",
        "outputId": "184eab63-8ea6-4eb3-8211-425acda24bfa"
      },
      "execution_count": null,
      "outputs": [
        {
          "output_type": "stream",
          "name": "stdout",
          "text": [
            "['meenakshi', 'kin', 'jhon', 'mike']\n",
            "137928079014528\n"
          ]
        }
      ]
    },
    {
      "cell_type": "code",
      "source": [
        "char"
      ],
      "metadata": {
        "colab": {
          "base_uri": "https://localhost:8080/"
        },
        "id": "6EGg33NB5npN",
        "outputId": "e6fdbd33-58e8-4e92-df33-f7441ad6cd32"
      },
      "execution_count": null,
      "outputs": [
        {
          "output_type": "execute_result",
          "data": {
            "text/plain": [
              "['a', 'e', 'i', 'o', 'u']"
            ]
          },
          "metadata": {},
          "execution_count": 63
        }
      ]
    },
    {
      "cell_type": "code",
      "source": [
        "char = list('aeiou')\n",
        "char"
      ],
      "metadata": {
        "colab": {
          "base_uri": "https://localhost:8080/"
        },
        "id": "_RIpaU3_6kCZ",
        "outputId": "2bbe42da-9a5a-4cd2-bc2e-3f1f67e9bd29"
      },
      "execution_count": null,
      "outputs": [
        {
          "output_type": "execute_result",
          "data": {
            "text/plain": [
              "['a', 'e', 'i', 'o', 'u']"
            ]
          },
          "metadata": {},
          "execution_count": 64
        }
      ]
    },
    {
      "cell_type": "code",
      "source": [
        "#numbers\n",
        "28%2 #modulus (remainder)\n",
        "23%2"
      ],
      "metadata": {
        "colab": {
          "base_uri": "https://localhost:8080/"
        },
        "id": "Op0eW3t96j78",
        "outputId": "16505cce-20c0-411d-bde2-669acf44c911"
      },
      "execution_count": null,
      "outputs": [
        {
          "output_type": "execute_result",
          "data": {
            "text/plain": [
              "1"
            ]
          },
          "metadata": {},
          "execution_count": 65
        }
      ]
    },
    {
      "cell_type": "code",
      "source": [
        "28 // 2 #division"
      ],
      "metadata": {
        "colab": {
          "base_uri": "https://localhost:8080/"
        },
        "id": "8YLvlX_G7DEO",
        "outputId": "bb300103-5d37-4ae6-e1a9-5a3cf2e5893e"
      },
      "execution_count": null,
      "outputs": [
        {
          "output_type": "execute_result",
          "data": {
            "text/plain": [
              "14"
            ]
          },
          "metadata": {},
          "execution_count": 66
        }
      ]
    },
    {
      "cell_type": "code",
      "source": [
        "#conditionals\n",
        "x = 200\n",
        "if x % 2 == 0:\n",
        "  if x % 3 == 0:\n",
        "    print('divisible by 2 and 3')\n",
        "  else:\n",
        "      print(\"divisible by 2 and not by 3\")\n",
        "elif x % 3 == 0:\n",
        "  print('divisible by 3 and not by 2')\n",
        "else:\n",
        "  print('niether divisble by 3 nor by 2')"
      ],
      "metadata": {
        "colab": {
          "base_uri": "https://localhost:8080/"
        },
        "id": "3i5dQPjy3-hE",
        "outputId": "ae782715-0dc4-4526-ffbc-291b26d0ed64"
      },
      "execution_count": null,
      "outputs": [
        {
          "output_type": "stream",
          "name": "stdout",
          "text": [
            "divisible by 2 and not by 3\n"
          ]
        }
      ]
    },
    {
      "cell_type": "markdown",
      "source": [
        "Enter the integer and write 2 small Python programs in 3 cells:\n",
        "\n",
        "    Print out 'even' if the entered number is even.\n",
        "    Print out 'even' if the entered number is even or 'odd' if the entered number is odd.\n"
      ],
      "metadata": {
        "id": "Epcv2raE5Nzb"
      }
    },
    {
      "cell_type": "code",
      "source": [
        "x = 5\n",
        "if x % 2 == 0:\n",
        "  print('number is even')\n",
        "else:\n",
        "  print('number is odd')"
      ],
      "metadata": {
        "colab": {
          "base_uri": "https://localhost:8080/"
        },
        "id": "MZsY-2213-ZZ",
        "outputId": "e9e59586-2b70-4bf5-c13c-7f6294ba7e52"
      },
      "execution_count": null,
      "outputs": [
        {
          "output_type": "stream",
          "name": "stdout",
          "text": [
            "number is odd\n"
          ]
        }
      ]
    },
    {
      "cell_type": "code",
      "source": [
        "#loops\n",
        "\n",
        "x = 4\n",
        "for i in range(0,x):\n",
        "  print(i)"
      ],
      "metadata": {
        "colab": {
          "base_uri": "https://localhost:8080/"
        },
        "id": "32hmf8Cq3-SW",
        "outputId": "41ad9503-88af-4fbd-9beb-2395c9227e13"
      },
      "execution_count": null,
      "outputs": [
        {
          "output_type": "stream",
          "name": "stdout",
          "text": [
            "0\n",
            "1\n",
            "2\n",
            "3\n"
          ]
        }
      ]
    },
    {
      "cell_type": "code",
      "source": [
        "x = 100\n",
        "for i in range(0, x, 10):\n",
        "  print(i)"
      ],
      "metadata": {
        "colab": {
          "base_uri": "https://localhost:8080/"
        },
        "id": "0IZDYHnk3-Kh",
        "outputId": "02102623-c5fe-484f-ac83-f86286c47fda"
      },
      "execution_count": null,
      "outputs": [
        {
          "output_type": "stream",
          "name": "stdout",
          "text": [
            "0\n",
            "10\n",
            "20\n",
            "30\n",
            "40\n",
            "50\n",
            "60\n",
            "70\n",
            "80\n",
            "90\n"
          ]
        }
      ]
    },
    {
      "cell_type": "code",
      "source": [
        "#string\n",
        "'a'"
      ],
      "metadata": {
        "colab": {
          "base_uri": "https://localhost:8080/",
          "height": 37
        },
        "id": "1bglVyxZ_IMS",
        "outputId": "ce3aa417-b505-4f4e-90a6-62618d685f03"
      },
      "execution_count": null,
      "outputs": [
        {
          "output_type": "execute_result",
          "data": {
            "text/plain": [
              "'a'"
            ],
            "application/vnd.google.colaboratory.intrinsic+json": {
              "type": "string"
            }
          },
          "metadata": {},
          "execution_count": 71
        }
      ]
    },
    {
      "cell_type": "code",
      "source": [
        "#set\n",
        "set1 = {\"red\",\"red\",\"green\"}\n",
        "print(set1) #not repeat"
      ],
      "metadata": {
        "colab": {
          "base_uri": "https://localhost:8080/"
        },
        "id": "ucyTvAK3_b6v",
        "outputId": "2773224e-3cd7-4b5d-e77f-f80d1016e850"
      },
      "execution_count": null,
      "outputs": [
        {
          "output_type": "stream",
          "name": "stdout",
          "text": [
            "{'green', 'red'}\n"
          ]
        }
      ]
    },
    {
      "cell_type": "code",
      "source": [
        "set2 = set(\"hello\")\n",
        "print(set2)"
      ],
      "metadata": {
        "colab": {
          "base_uri": "https://localhost:8080/"
        },
        "id": "ofi38NFS_bw2",
        "outputId": "46a5fa9b-d621-4153-83b8-0c6d104314a3"
      },
      "execution_count": null,
      "outputs": [
        {
          "output_type": "stream",
          "name": "stdout",
          "text": [
            "{'h', 'o', 'e', 'l'}\n"
          ]
        }
      ]
    },
    {
      "cell_type": "code",
      "source": [
        "#multiple assignment\n",
        "x,y = 4,5\n",
        "print(x)\n",
        "print(y)"
      ],
      "metadata": {
        "id": "S3Wrg5mE_boZ"
      },
      "execution_count": null,
      "outputs": []
    },
    {
      "cell_type": "markdown",
      "source": [
        "## Assignment 1.3: Dict\n",
        "Create dictionary `month_dict` with names of the months and the corresponding integer numbers and use functions from the corresponding lecture slide #45.\n",
        "Use two for loops to print out all values and all keys of the created dictionary."
      ],
      "metadata": {
        "id": "rG7FQGD6ArCQ"
      }
    },
    {
      "cell_type": "code",
      "source": [
        "month_dict = {'January':1,\n",
        "              'February':2,\n",
        "              'March':3,\n",
        "              'April':4,\n",
        "              'May':5,\n",
        "              'June':6,\n",
        "              'July':7,\n",
        "              'August':8,\n",
        "              'September':9,\n",
        "              'October':10,\n",
        "              'November':11,\n",
        "              'December':12\n",
        "              }\n",
        "print(month_dict['June'])"
      ],
      "metadata": {
        "colab": {
          "base_uri": "https://localhost:8080/"
        },
        "id": "ZcD149du_bg0",
        "outputId": "d53c41c5-96f9-4481-9d3b-5a4cfac0855e"
      },
      "execution_count": null,
      "outputs": [
        {
          "output_type": "stream",
          "name": "stdout",
          "text": [
            "6\n"
          ]
        }
      ]
    },
    {
      "cell_type": "code",
      "source": [
        "month_dict['undec'] = 13\n",
        "print(month_dict)"
      ],
      "metadata": {
        "colab": {
          "base_uri": "https://localhost:8080/"
        },
        "id": "VkDumG8cG88h",
        "outputId": "197ca067-85a4-4c72-f665-31addc4d3793"
      },
      "execution_count": null,
      "outputs": [
        {
          "output_type": "stream",
          "name": "stdout",
          "text": [
            "{'January': 1, 'February': 2, 'March': 3, 'April': 4, 'May': 5, 'June': 6, 'July': 7, 'August': 8, 'September': 9, 'October': 10, 'November': 11, 'December': 12, 'undec': 13}\n"
          ]
        }
      ]
    },
    {
      "cell_type": "code",
      "source": [
        "for month in month_dict:\n",
        "  print(month)"
      ],
      "metadata": {
        "colab": {
          "base_uri": "https://localhost:8080/"
        },
        "id": "WYhPmfLkG8yl",
        "outputId": "cf2b6b89-0cba-48a5-e203-fc9acae2e29d"
      },
      "execution_count": null,
      "outputs": [
        {
          "output_type": "stream",
          "name": "stdout",
          "text": [
            "January\n",
            "February\n",
            "March\n",
            "April\n",
            "May\n",
            "June\n",
            "July\n",
            "August\n",
            "September\n",
            "October\n",
            "November\n",
            "December\n",
            "undec\n"
          ]
        }
      ]
    },
    {
      "cell_type": "code",
      "source": [
        "for number in month_dict.values():\n",
        "  print(number)"
      ],
      "metadata": {
        "colab": {
          "base_uri": "https://localhost:8080/"
        },
        "id": "-XrKibKxG8pJ",
        "outputId": "8ca5a42f-6f56-4099-88ee-a7304ada0f17"
      },
      "execution_count": null,
      "outputs": [
        {
          "output_type": "stream",
          "name": "stdout",
          "text": [
            "1\n",
            "2\n",
            "3\n",
            "4\n",
            "5\n",
            "6\n",
            "7\n",
            "8\n",
            "9\n",
            "10\n",
            "11\n",
            "12\n",
            "13\n"
          ]
        }
      ]
    },
    {
      "cell_type": "code",
      "source": [
        "for month, number in month_dict.items():\n",
        "  print(month, number)"
      ],
      "metadata": {
        "colab": {
          "base_uri": "https://localhost:8080/"
        },
        "id": "p4MvmGNRG8hR",
        "outputId": "0aac599c-ab46-4310-fc7a-b9c0c80bb65b"
      },
      "execution_count": null,
      "outputs": [
        {
          "output_type": "stream",
          "name": "stdout",
          "text": [
            "January 1\n",
            "February 2\n",
            "March 3\n",
            "April 4\n",
            "May 5\n",
            "June 6\n",
            "July 7\n",
            "August 8\n",
            "September 9\n",
            "October 10\n",
            "November 11\n",
            "December 12\n",
            "undec 13\n"
          ]
        }
      ]
    },
    {
      "cell_type": "code",
      "source": [
        "#Function\n",
        "#sum\n",
        "def sum_to_n(n):\n",
        "  sum = 0\n",
        "  for i in range(n+1):\n",
        "    sum = sum + 1\n",
        "  return sum"
      ],
      "metadata": {
        "id": "rJmjq9FiHv0h"
      },
      "execution_count": null,
      "outputs": []
    },
    {
      "cell_type": "code",
      "source": [
        "number_sum = sum_to_n(3)\n",
        "print(number_sum)"
      ],
      "metadata": {
        "colab": {
          "base_uri": "https://localhost:8080/"
        },
        "id": "sn1LlK4QHvqN",
        "outputId": "8d518787-451a-44f9-cb97-67b190269f83"
      },
      "execution_count": null,
      "outputs": [
        {
          "output_type": "stream",
          "name": "stdout",
          "text": [
            "4\n"
          ]
        }
      ]
    },
    {
      "cell_type": "markdown",
      "source": [
        "This week, you slept 6.2, 7, 8, 5, 6.5, 7.1 and 8.5 hours. Calculate the average number of hours slept using a list and a for loop."
      ],
      "metadata": {
        "id": "kMkvmBcGIhj0"
      }
    },
    {
      "cell_type": "code",
      "source": [
        "hours = [6.2, 7, 8, 5, 6.5, 7.1, 8.5]\n",
        "total_hours = 0\n",
        "for hour in hours:\n",
        "  total_hours = total_hours + hour\n",
        "avg_hour = total_hours / len(hours)\n",
        "print(avg_hour)"
      ],
      "metadata": {
        "colab": {
          "base_uri": "https://localhost:8080/"
        },
        "id": "l6hu7lWJHvgi",
        "outputId": "7f06b815-94c3-4099-89ff-493cdd193937"
      },
      "execution_count": null,
      "outputs": [
        {
          "output_type": "stream",
          "name": "stdout",
          "text": [
            "6.9\n"
          ]
        }
      ]
    }
  ]
}