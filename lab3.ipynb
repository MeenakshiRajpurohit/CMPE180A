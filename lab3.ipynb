{
  "nbformat": 4,
  "nbformat_minor": 0,
  "metadata": {
    "colab": {
      "provenance": [],
      "authorship_tag": "ABX9TyNG0CyVsq/LxmXQezauO7ii",
      "include_colab_link": true
    },
    "kernelspec": {
      "name": "python3",
      "display_name": "Python 3"
    },
    "language_info": {
      "name": "python"
    }
  },
  "cells": [
    {
      "cell_type": "markdown",
      "metadata": {
        "id": "view-in-github",
        "colab_type": "text"
      },
      "source": [
        "<a href=\"https://colab.research.google.com/github/MeenakshiRajpurohit/CMPE180A/blob/main/lab3.ipynb\" target=\"_parent\"><img src=\"https://colab.research.google.com/assets/colab-badge.svg\" alt=\"Open In Colab\"/></a>"
      ]
    },
    {
      "cell_type": "code",
      "execution_count": 2,
      "metadata": {
        "colab": {
          "base_uri": "https://localhost:8080/"
        },
        "id": "-7kXqM64XWlK",
        "outputId": "de860206-5525-4885-f47b-4e1a64499e3b"
      },
      "outputs": [
        {
          "output_type": "stream",
          "name": "stdout",
          "text": [
            "length:   0; size in bytes:   56\n",
            "length:   1; size in bytes:   88\n",
            "length:   2; size in bytes:   88\n",
            "length:   3; size in bytes:   88\n",
            "length:   4; size in bytes:   88\n",
            "length:   5; size in bytes:  120\n",
            "length:   6; size in bytes:  120\n",
            "length:   7; size in bytes:  120\n",
            "length:   8; size in bytes:  120\n",
            "length:   9; size in bytes:  184\n",
            "length:  10; size in bytes:  184\n",
            "length:  11; size in bytes:  184\n",
            "length:  12; size in bytes:  184\n",
            "length:  13; size in bytes:  184\n",
            "length:  14; size in bytes:  184\n",
            "length:  15; size in bytes:  184\n",
            "length:  16; size in bytes:  184\n",
            "length:  17; size in bytes:  248\n",
            "length:  18; size in bytes:  248\n",
            "length:  19; size in bytes:  248\n",
            "length:  20; size in bytes:  248\n",
            "length:  21; size in bytes:  248\n",
            "length:  22; size in bytes:  248\n",
            "length:  23; size in bytes:  248\n",
            "length:  24; size in bytes:  248\n",
            "length:  25; size in bytes:  312\n",
            "length:  26; size in bytes:  312\n",
            "length:  27; size in bytes:  312\n",
            "length:  28; size in bytes:  312\n",
            "length:  29; size in bytes:  312\n",
            "length:  30; size in bytes:  312\n",
            "length:  31; size in bytes:  312\n",
            "length:  32; size in bytes:  312\n",
            "length:  33; size in bytes:  376\n",
            "length:  34; size in bytes:  376\n",
            "length:  35; size in bytes:  376\n",
            "length:  36; size in bytes:  376\n",
            "length:  37; size in bytes:  376\n",
            "length:  38; size in bytes:  376\n",
            "length:  39; size in bytes:  376\n",
            "length:  40; size in bytes:  376\n",
            "length:  41; size in bytes:  472\n",
            "length:  42; size in bytes:  472\n",
            "length:  43; size in bytes:  472\n",
            "length:  44; size in bytes:  472\n",
            "length:  45; size in bytes:  472\n",
            "length:  46; size in bytes:  472\n",
            "length:  47; size in bytes:  472\n",
            "length:  48; size in bytes:  472\n",
            "length:  49; size in bytes:  472\n",
            "length:  50; size in bytes:  472\n",
            "length:  51; size in bytes:  472\n",
            "length:  52; size in bytes:  472\n",
            "length:  53; size in bytes:  568\n",
            "length:  54; size in bytes:  568\n",
            "length:  55; size in bytes:  568\n",
            "length:  56; size in bytes:  568\n",
            "length:  57; size in bytes:  568\n",
            "length:  58; size in bytes:  568\n",
            "length:  59; size in bytes:  568\n",
            "length:  60; size in bytes:  568\n",
            "length:  61; size in bytes:  568\n",
            "length:  62; size in bytes:  568\n",
            "length:  63; size in bytes:  568\n",
            "length:  64; size in bytes:  568\n",
            "length:  65; size in bytes:  664\n",
            "length:  66; size in bytes:  664\n",
            "length:  67; size in bytes:  664\n",
            "length:  68; size in bytes:  664\n",
            "length:  69; size in bytes:  664\n",
            "length:  70; size in bytes:  664\n",
            "length:  71; size in bytes:  664\n",
            "length:  72; size in bytes:  664\n",
            "length:  73; size in bytes:  664\n",
            "length:  74; size in bytes:  664\n",
            "length:  75; size in bytes:  664\n",
            "length:  76; size in bytes:  664\n",
            "length:  77; size in bytes:  792\n",
            "length:  78; size in bytes:  792\n",
            "length:  79; size in bytes:  792\n",
            "length:  80; size in bytes:  792\n",
            "length:  81; size in bytes:  792\n",
            "length:  82; size in bytes:  792\n",
            "length:  83; size in bytes:  792\n",
            "length:  84; size in bytes:  792\n",
            "length:  85; size in bytes:  792\n",
            "length:  86; size in bytes:  792\n",
            "length:  87; size in bytes:  792\n",
            "length:  88; size in bytes:  792\n",
            "length:  89; size in bytes:  792\n",
            "length:  90; size in bytes:  792\n",
            "length:  91; size in bytes:  792\n",
            "length:  92; size in bytes:  792\n",
            "length:  93; size in bytes:  920\n",
            "length:  94; size in bytes:  920\n",
            "length:  95; size in bytes:  920\n",
            "length:  96; size in bytes:  920\n",
            "length:  97; size in bytes:  920\n",
            "length:  98; size in bytes:  920\n",
            "length:  99; size in bytes:  920\n"
          ]
        }
      ],
      "source": [
        "import sys\n",
        "data = []\n",
        "n = 100\n",
        "for k in range(n):\n",
        "  a = len(data)\n",
        "  b = sys.getsizeof(data)\n",
        "  print('length: {0:3d}; size in bytes: {1:4d}'.format(a, b))\n",
        "  data.append(None)"
      ]
    },
    {
      "cell_type": "code",
      "source": [
        "def prefix_average(S):\n",
        "  n = len(S)\n",
        "  A = [0] * n\n",
        "  for j in range(n):\n",
        "    total = 0\n",
        "    for i in range(j + 1):\n",
        "      total = total + S[i]\n",
        "    A[j] = total / (j + 1)\n",
        "  return A\n",
        "prefix_average([2,3,1])"
      ],
      "metadata": {
        "colab": {
          "base_uri": "https://localhost:8080/"
        },
        "id": "CE8MUndYZVV4",
        "outputId": "6e0d3c6a-2679-4d6d-915a-606c2ee87c6e"
      },
      "execution_count": 4,
      "outputs": [
        {
          "output_type": "execute_result",
          "data": {
            "text/plain": [
              "[2.0, 2.5, 2.0]"
            ]
          },
          "metadata": {},
          "execution_count": 4
        }
      ]
    },
    {
      "cell_type": "code",
      "source": [
        "def prefix_average2(S):\n",
        "  n = len(S)\n",
        "  A = [0] * n\n",
        "  for j in range(n):\n",
        "    A[j] = sum(S[0:j+1]) / (j + 1)\n",
        "  return A\n",
        "  print(prefix_average2([2,3,1]))"
      ],
      "metadata": {
        "id": "v9Nupnuzcmuj"
      },
      "execution_count": 7,
      "outputs": []
    },
    {
      "cell_type": "code",
      "source": [
        "r = 3\n",
        "c = 6\n",
        "data1 = ([0]*r)*c\n",
        "print(data1)\n",
        "\n"
      ],
      "metadata": {
        "colab": {
          "base_uri": "https://localhost:8080/"
        },
        "id": "2_liteUzZVSZ",
        "outputId": "d2834f21-3e59-45fa-f1cb-8bc7eef917e7"
      },
      "execution_count": 2,
      "outputs": [
        {
          "output_type": "stream",
          "name": "stdout",
          "text": [
            "[0, 0, 0, 0, 0, 0, 0, 0, 0, 0, 0, 0, 0, 0, 0, 0, 0, 0]\n"
          ]
        }
      ]
    },
    {
      "cell_type": "code",
      "source": [
        "data2 = [[0]*c]*r\n",
        "print(data2)\n",
        "\n",
        "print(id(data2[0][0]))\n",
        "print(id(data2[1][0]))"
      ],
      "metadata": {
        "colab": {
          "base_uri": "https://localhost:8080/"
        },
        "id": "rDU-D7OKZVPA",
        "outputId": "9847a0bf-2f84-4f7d-b02c-530cf73071cf"
      },
      "execution_count": 7,
      "outputs": [
        {
          "output_type": "stream",
          "name": "stdout",
          "text": [
            "[[0, 0, 0, 0, 0, 0], [0, 0, 0, 0, 0, 0], [0, 0, 0, 0, 0, 0]]\n",
            "11642056\n",
            "11642056\n"
          ]
        }
      ]
    },
    {
      "cell_type": "code",
      "source": [
        "data2[0][0] = 99\n",
        "print(data2)"
      ],
      "metadata": {
        "colab": {
          "base_uri": "https://localhost:8080/"
        },
        "id": "O38VoLv8Mrvb",
        "outputId": "6ff170b2-06b9-466c-9870-7f90f4ed18bd"
      },
      "execution_count": 8,
      "outputs": [
        {
          "output_type": "stream",
          "name": "stdout",
          "text": [
            "[[99, 0, 0, 0, 0, 0], [99, 0, 0, 0, 0, 0], [99, 0, 0, 0, 0, 0]]\n"
          ]
        }
      ]
    },
    {
      "cell_type": "code",
      "source": [
        "data3 = [[0]*c for j in range(r)]\n",
        "print(data3)\n",
        "\n",
        "data3[0][0] = 99\n",
        "print(data3)"
      ],
      "metadata": {
        "colab": {
          "base_uri": "https://localhost:8080/"
        },
        "id": "ghGjlS03Mrr7",
        "outputId": "eac8045f-db89-4358-8ac9-3069c336b47d"
      },
      "execution_count": 10,
      "outputs": [
        {
          "output_type": "stream",
          "name": "stdout",
          "text": [
            "[[0, 0, 0, 0, 0, 0], [0, 0, 0, 0, 0, 0], [0, 0, 0, 0, 0, 0]]\n",
            "[[99, 0, 0, 0, 0, 0], [0, 0, 0, 0, 0, 0], [0, 0, 0, 0, 0, 0]]\n"
          ]
        }
      ]
    },
    {
      "cell_type": "markdown",
      "source": [
        "#Recursion"
      ],
      "metadata": {
        "id": "Lb9CiO3SOQUi"
      }
    },
    {
      "cell_type": "code",
      "source": [
        "def factorial(n):\n",
        "  if n == 0:\n",
        "    return 1\n",
        "  else:\n",
        "    return n* factorial(n-1)\n",
        "\n",
        "factorial(3)"
      ],
      "metadata": {
        "colab": {
          "base_uri": "https://localhost:8080/"
        },
        "id": "KIUcQC2QMroE",
        "outputId": "19eda45b-6797-4164-cce2-219ea24fbb3a"
      },
      "execution_count": 11,
      "outputs": [
        {
          "output_type": "execute_result",
          "data": {
            "text/plain": [
              "6"
            ]
          },
          "metadata": {},
          "execution_count": 11
        }
      ]
    },
    {
      "cell_type": "code",
      "source": [
        "\n",
        "def binary_search(data, target, low, high):\n",
        "  if low > high:\n",
        "    return False\n",
        "  else:\n",
        "    mid = (low + high) // 2\n",
        "    if target == data[mid]:\n",
        "      return True\n",
        "    elif target < data[mid]:\n",
        "      return binary_search(data, target, low, mid -1)\n",
        "    else:\n",
        "      return binary_search(data, target, mid +1, high)\n",
        "  print(binary_search([1,2,3,4,5,6], 4, 1, 6))"
      ],
      "metadata": {
        "id": "eHJQoPIjO11t"
      },
      "execution_count": 15,
      "outputs": []
    },
    {
      "cell_type": "code",
      "source": [
        "def binary_search_iterative(data, target):\n",
        "  low = 0\n",
        "  high = len(data) - 1\n",
        "  while low <= high:\n",
        "    mid = (low + high) // 2\n",
        "    if target == data[mid]:\n",
        "      return True\n",
        "    elif target < data[mid]:\n",
        "      high = mid - 1\n",
        "    else:\n",
        "      low = mid + 1\n",
        "  return False"
      ],
      "metadata": {
        "id": "NnUQftJoT-LZ"
      },
      "execution_count": 16,
      "outputs": []
    },
    {
      "cell_type": "code",
      "source": [
        "def linear_sum(S, n):\n",
        "  if n == 0:\n",
        "    return 0\n",
        "  else:\n",
        "    return linear_sum(S, n-1) + S[n - 1]\n",
        "linear_sum([1,2,3], 3)"
      ],
      "metadata": {
        "colab": {
          "base_uri": "https://localhost:8080/"
        },
        "id": "g7ByGQsNVCwa",
        "outputId": "07c37734-fe60-4000-ba5f-f8804dedf68f"
      },
      "execution_count": 18,
      "outputs": [
        {
          "output_type": "execute_result",
          "data": {
            "text/plain": [
              "6"
            ]
          },
          "metadata": {},
          "execution_count": 18
        }
      ]
    },
    {
      "cell_type": "code",
      "source": [
        "def reverse(S, start, stop ):\n",
        "  if start < stop - 1:\n",
        "    S[start], S[stop-1] = S[stop - 1], S[start]\n",
        "    reverse(S, start + 1, stop -1)"
      ],
      "metadata": {
        "id": "Yfs61XroXbsy"
      },
      "execution_count": 21,
      "outputs": []
    },
    {
      "cell_type": "code",
      "source": [
        "def reverse_iterative(S):\n",
        "  start, stop = 0, len(S)\n",
        "  while start < stop - 1:\n",
        "    S[start], S [stop -1] = S[stop -1], S[start]\n",
        "    start, stop = start +1, stop -1\n",
        "\n",
        "k = [1,2,3,4]\n",
        "reverse_iterative(k)\n",
        "print(k)"
      ],
      "metadata": {
        "colab": {
          "base_uri": "https://localhost:8080/"
        },
        "id": "2UfgJXixXbfZ",
        "outputId": "517a56fe-b2e6-4827-d978-ff4832d763ae"
      },
      "execution_count": 4,
      "outputs": [
        {
          "output_type": "stream",
          "name": "stdout",
          "text": [
            "[4, 3, 2, 1]\n"
          ]
        }
      ]
    },
    {
      "cell_type": "code",
      "source": [
        "def power(x, n):\n",
        "  if n == 0:\n",
        "    return 1\n",
        "  else:\n",
        "    return x * power(x, n-1)\n",
        "res = power(2,3)\n",
        "print(res)"
      ],
      "metadata": {
        "colab": {
          "base_uri": "https://localhost:8080/"
        },
        "id": "dn29pZn_Xbag",
        "outputId": "0fa3500e-e8d2-442d-dad6-c34284908390"
      },
      "execution_count": 5,
      "outputs": [
        {
          "output_type": "stream",
          "name": "stdout",
          "text": [
            "8\n"
          ]
        }
      ]
    },
    {
      "cell_type": "code",
      "source": [
        "def fib_recursive(n):\n",
        "  if n < 0:\n",
        "    raise ValueError('n must be non-neg')\n",
        "  if n < 2:\n",
        "    return n\n",
        "  return fib_recursive(n-1) + fib_recursive(n-2)\n"
      ],
      "metadata": {
        "id": "sqaofwaXXbWV"
      },
      "execution_count": null,
      "outputs": []
    },
    {
      "cell_type": "markdown",
      "source": [
        "#Top down dynamic programming\n"
      ],
      "metadata": {
        "id": "mArpjAAvFPeI"
      }
    },
    {
      "cell_type": "code",
      "source": [
        "def fib_memo_manual(n, cache = None):\n",
        "  if n < 0:\n",
        "    raise ValueError('n must be non neg')\n",
        "  if cache is None:\n",
        "    cache = {0:0, 1:1}\n",
        "  if n not in cache:\n",
        "    cache[n] = fib_memo_manual(n-1, cache) + fib_memo_manual(n-2, cache)\n",
        "  return cache[n]"
      ],
      "metadata": {
        "id": "khQuKTSZFXEI"
      },
      "execution_count": 1,
      "outputs": []
    },
    {
      "cell_type": "code",
      "source": [
        "c1 = None\n",
        "fib_memo_manual(6, c1)"
      ],
      "metadata": {
        "colab": {
          "base_uri": "https://localhost:8080/"
        },
        "id": "ndZIY11zFX4z",
        "outputId": "01e4397d-4d14-4bbc-ea44-d12b4a89fe13"
      },
      "execution_count": 2,
      "outputs": [
        {
          "output_type": "execute_result",
          "data": {
            "text/plain": [
              "8"
            ]
          },
          "metadata": {},
          "execution_count": 2
        }
      ]
    },
    {
      "cell_type": "code",
      "source": [
        "#Bottom- up dynamic programming(Tabulation)\n",
        "def fib_dp_table(n):\n",
        "  if n < 0:\n",
        "    raise ValueError('n must be non neg')\n",
        "  if n < 2:\n",
        "    return n\n",
        "  dp = [0] * (n + 1)\n",
        "  dp[0], dp[1] = 0, 1\n",
        "  for k in range(2, n+1):\n",
        "    dp[k] = dp[k-1] + dp[k-2]\n",
        "  return dp[n]\n",
        "\n",
        "print(fib_dp_table(10))"
      ],
      "metadata": {
        "colab": {
          "base_uri": "https://localhost:8080/"
        },
        "id": "kyTLlwRQFXuC",
        "outputId": "64c05859-7d50-4e22-cb51-23e101a58d34"
      },
      "execution_count": 4,
      "outputs": [
        {
          "output_type": "stream",
          "name": "stdout",
          "text": [
            "55\n"
          ]
        }
      ]
    },
    {
      "cell_type": "code",
      "source": [
        "#dynamic array implementation\n",
        "import ctypes\n",
        "\n",
        "class DynamicArray:\n",
        "\n",
        "  def __init__(self):\n",
        "    self._n = 0\n",
        "    self._capacity = 1\n",
        "    self._A = self._make_array(self._capacity)\n",
        "\n",
        "  def __len__(self):\n",
        "    return self._n\n",
        "\n",
        "  def __getitem__(self, k):\n",
        "    if not 0 <= k < self._n:\n",
        "      raise ValueError('invalid index')\n",
        "    return self._A[k]\n",
        "\n",
        "  def append(self, obj):\n",
        "    if self._n == self._capacity:\n",
        "      self._resize(2 * self._capacity)\n",
        "    self._A[self._n] = obj\n",
        "    self._n += 1\n",
        "\n",
        "  def _resize(self, c):\n",
        "    B = self._make_array(c)\n",
        "    for k in range(self._n):\n",
        "      B[k] = self._A[k]\n",
        "    self._A = B\n",
        "    self._capacity = c\n",
        "\n",
        "  def _make_array(self, c):\n",
        "    return (c * ctypes.py_object)()\n",
        "\n",
        "  def insert(self, k, value):\n",
        "    if self._n == self._capacity:\n",
        "      self._resize(2 * self._capacity)\n",
        "    for j in range(self._n, k, -1):\n",
        "      self._A[j] = self._A[j-1]\n",
        "    self._A[k] = value\n",
        "    self._n += 1\n",
        "\n",
        "  def remove(self, value):\n",
        "    for k in range(self._n):\n",
        "      if self._A[k] == value:\n",
        "        for j in range(k, self._n - 1):\n",
        "          self._A[j] = self._A[j + 1]\n",
        "        self._A[self._n - 1] = None\n",
        "        self._n -= 1\n",
        "        return\n",
        "    raise ValueError('value not found')"
      ],
      "metadata": {
        "id": "sb9Q0Q8kJpMB"
      },
      "execution_count": 2,
      "outputs": []
    },
    {
      "cell_type": "markdown",
      "source": [
        "Stack: Matching Parentheses\n",
        "\n",
        "    Version 1: Implement stack using Python list\n",
        "    Version 2: Implement a class\n",
        "\n",
        "Implement on of the versions. Test for pairs of matching delimiters.\n",
        "\n",
        "Parentheses:\n",
        "\n",
        "    “(” and “)”\n",
        "    Braces: “{\" and “}”\n",
        "    Brackets: “[” and “]”\n",
        "\n",
        "Each opening symbol must match its corresponding closing symbol. For example, a left bracket, “[,” must match a corresponding right bracket, “],” as in the expression [(5+x)-(y+z)]. The following examples further illustrate this concept:\n",
        "\n",
        "    Correct: ()(()){([()])}\n",
        "    Correct: ()(()){([()])}\n",
        "    Correct: ((()(()){([()])}))\n",
        "    Incorrect: )(()){([()])} *Incorrect: ({[])} *Incorrect: (\n"
      ],
      "metadata": {
        "id": "SfvwQmY5WDI_"
      }
    },
    {
      "cell_type": "code",
      "source": [
        "#stack\n",
        "def are_par_bal(expressions):\n",
        "  stack = []\n",
        "\n",
        "  opening = '{(['\n",
        "  closing = ')}]'\n",
        "\n",
        "  matches = {')':'(', '}':'{', ']':'['}\n",
        "\n",
        "  for c in expressions:\n",
        "    if c in opening:\n",
        "      stack.append(c)\n",
        "\n",
        "    elif c in closing:\n",
        "      if not stack:\n",
        "        return False\n",
        "\n",
        "      last_open_bracket = stack.pop()\n",
        "\n",
        "      if matches[c] != last_open_bracket:\n",
        "        return False\n",
        "\n",
        "    return not stack\n",
        "\n",
        "are_par_bal('((()(()){([()])}))')\n"
      ],
      "metadata": {
        "colab": {
          "base_uri": "https://localhost:8080/"
        },
        "id": "XB1NgpHiFXkW",
        "outputId": "2110a64c-79e1-4a13-d686-fee12032275e"
      },
      "execution_count": 3,
      "outputs": [
        {
          "output_type": "execute_result",
          "data": {
            "text/plain": [
              "False"
            ]
          },
          "metadata": {},
          "execution_count": 3
        }
      ]
    }
  ]
}