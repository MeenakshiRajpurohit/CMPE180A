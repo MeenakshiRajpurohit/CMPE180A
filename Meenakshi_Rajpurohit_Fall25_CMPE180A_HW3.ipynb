{
  "nbformat": 4,
  "nbformat_minor": 0,
  "metadata": {
    "colab": {
      "provenance": [],
      "include_colab_link": true
    },
    "kernelspec": {
      "name": "python3",
      "display_name": "Python 3"
    },
    "language_info": {
      "name": "python"
    }
  },
  "cells": [
    {
      "cell_type": "markdown",
      "metadata": {
        "id": "view-in-github",
        "colab_type": "text"
      },
      "source": [
        "<a href=\"https://colab.research.google.com/github/MeenakshiRajpurohit/CMPE180A/blob/main/Meenakshi_Rajpurohit_Fall25_CMPE180A_HW3.ipynb\" target=\"_parent\"><img src=\"https://colab.research.google.com/assets/colab-badge.svg\" alt=\"Open In Colab\"/></a>"
      ]
    },
    {
      "cell_type": "markdown",
      "source": [
        "San Jose State University, CMPE180A Data Structures and Algorithms with Python\n",
        "\n",
        "08/22/2025\n",
        "\n",
        "**Homework 3: Binary Search Tree** (10 points)\n",
        "\n",
        "Name: Meenakshi Rajpurohit\n",
        "\n",
        "SJSU ID: 019156514\n",
        "\n",
        "Date: Aug 28, 2025"
      ],
      "metadata": {
        "id": "zbusIUkse-tZ"
      }
    },
    {
      "cell_type": "markdown",
      "source": [
        "# HW3.1 Binary tree of random numbers\n",
        "\n",
        "The following code illustrates the binary tree class **RBT**, its methods and use. Your task is to comment all code sections."
      ],
      "metadata": {
        "id": "Tfd5plCi8Nps"
      }
    },
    {
      "cell_type": "code",
      "source": [
        "# comment 1:\n",
        "#Import the random module which provides functions for generating random numbers\n",
        "# Functions for random number generation, including random(), uniform(), radint(),etc\n",
        "import random\n",
        "\n",
        "\n",
        "# comment 2:\n",
        "#Generate a random floating point number between -1 and 1 (inclusive of -1 and exclusive of 1)\n",
        "#random.uniform(a, b) returns a random floating-point number N such that a <= N <= b for a <= b\n",
        "# In this case, it generates a random float in the range [-1.0, 1.0]\n",
        "#This also use as sample data for populating the binary tree with random values\n",
        "random.uniform(-1,1)"
      ],
      "metadata": {
        "id": "56rF4v__8MbG",
        "colab": {
          "base_uri": "https://localhost:8080/"
        },
        "outputId": "12f88a8b-386f-455e-9ba5-b3e9c8e1f1d2"
      },
      "execution_count": 49,
      "outputs": [
        {
          "output_type": "execute_result",
          "data": {
            "text/plain": [
              "0.07965387976923743"
            ]
          },
          "metadata": {},
          "execution_count": 49
        }
      ]
    },
    {
      "cell_type": "code",
      "source": [
        "# comment 3:\n",
        "\"\"\"\n",
        "Class : Represents a single node in the Random Binary Tree\n",
        "Constructor(__init__): It initializes a new node with a value parameter\n",
        "Attributes:\n",
        "      lpt(left pointer): Reference to left child node\n",
        "      rpt(right pointer): Reference to right child node\n",
        "      v (value): Store the node's data\n",
        "\"\"\"\n",
        "class RBTNode:\n",
        "    def __init__(self,v):\n",
        "        self.lpt=None\n",
        "        self.rpt=None\n",
        "        self.v=v\n",
        "    def __repr__(self): #Defines how the node appears when printed, returning a string representation of the node's value\n",
        "        return \"{}\".format(self.v)"
      ],
      "metadata": {
        "id": "eybGkcA4-Ixx"
      },
      "execution_count": 50,
      "outputs": []
    },
    {
      "cell_type": "code",
      "source": [
        "class RBT:\n",
        "    # comment 4:\n",
        "\n",
        "     #Constructor method for the Random Binary Tree (RBT) class.\n",
        "     #When a new RBT object is created, this method is called automatically.\n",
        "     #Initially, the tree has no rooot node.\n",
        "\n",
        "    def __init__(self):\n",
        "        self.root=None #Indicates an empty node\n",
        "\n",
        "    # comment 5:\n",
        "    #Recursive helper method to add a new node into the tree.\n",
        "    #If new_node's value is <= current node's value, it goes to the left subtree.\n",
        "    #Otherwise, it goes to the right subtree.\n",
        "    #This method keeps traversing untill it finds the correct empty spot to insert the new node.\n",
        "    def rec_add(self,tree_node,new_node):\n",
        "        if new_node.v <= tree_node.v:\n",
        "            # less than, left\n",
        "            if tree_node.lpt==None:\n",
        "                tree_node.lpt=new_node\n",
        "                return\n",
        "            else:\n",
        "                self.rec_add(tree_node.lpt,new_node)\n",
        "        else:\n",
        "            # greater than side #Go to right side\n",
        "            if tree_node.rpt==None:\n",
        "                tree_node.rpt=new_node\n",
        "                return\n",
        "            else:\n",
        "                self.rec_add(tree_node.rpt,new_node)\n",
        "    # comment 6:\n",
        "    # Public method for adding a new node('rbt') into the tree.\n",
        "    #First, it reset the new node's left and right pointers to None.\n",
        "    #If the tree is empty, the new node becomes the root.\n",
        "    #Otherwise, call rec_add() to find the correct position for the node.\n",
        "    def add_item(self,rbt):\n",
        "        rbt.rpt=None\n",
        "        rbt.lpt=None\n",
        "        if self.root==None:\n",
        "            self.root=rbt\n",
        "            return\n",
        "        self.rec_add(self.root,rbt)"
      ],
      "metadata": {
        "id": "9B-e8Ag5-j9A"
      },
      "execution_count": 51,
      "outputs": []
    },
    {
      "cell_type": "code",
      "source": [
        "# comment 7:\n",
        "# Create an instance of the RBT class.\n",
        "#The variable 'bt1' now holds a new, empty binary tree object,\n",
        "#with its 'root' attribute initialized to None.This object is now\n",
        "# ready to have nodes added to it using the 'add_item' method.\n",
        "bt1=RBT()"
      ],
      "metadata": {
        "id": "NMLjoVh3-5Td"
      },
      "execution_count": 52,
      "outputs": []
    },
    {
      "cell_type": "code",
      "source": [
        "# comment 8:\n",
        "#Insert 50 nodes into the tree.\n",
        "#It uses a for loop that runs 50 times. In each iteration:\n",
        "#1. A new RBTNode is created, named \"d\".\n",
        "#Its value is  a random floating point number  between -1 and 1.\n",
        "#add_item() method of the 'bt1' is called to places the node into the correct position in the tree\n",
        "\n",
        "for ix in range(50):\n",
        "    d=RBTNode(random.uniform(-1,1))\n",
        "    bt1.add_item(d)"
      ],
      "metadata": {
        "id": "msY1JTPw_R8q"
      },
      "execution_count": 53,
      "outputs": []
    },
    {
      "cell_type": "code",
      "source": [
        "#comment 9:\n",
        "#Accesses the root attribute of the 'bt1' tree object.\n",
        "#This will return the first node that was inserted into the tree.\n",
        "#(since it was empty initially, that node became the root).\n",
        "#From the root, explore its left and right subtrees.\n",
        "bt1.root"
      ],
      "metadata": {
        "id": "JlRMpidrA-ur",
        "colab": {
          "base_uri": "https://localhost:8080/"
        },
        "outputId": "ebfaa1c2-0791-4cfa-fa4d-4ca438229ba6"
      },
      "execution_count": 54,
      "outputs": [
        {
          "output_type": "execute_result",
          "data": {
            "text/plain": [
              "0.04280343831001665"
            ]
          },
          "metadata": {},
          "execution_count": 54
        }
      ]
    },
    {
      "cell_type": "code",
      "source": [
        "#comment 10:\n",
        "#Access the left child (lpt) of the root node.\n",
        "#If it exists, this will return the node store on the left side of the root.\n",
        "#If the root has no left child, this will return None.\n",
        "bt1.root.lpt"
      ],
      "metadata": {
        "id": "GDfXDzJJA-G1",
        "colab": {
          "base_uri": "https://localhost:8080/"
        },
        "outputId": "c73ff0b2-a77d-45fb-e0a4-d6ce96325abe"
      },
      "execution_count": 55,
      "outputs": [
        {
          "output_type": "execute_result",
          "data": {
            "text/plain": [
              "0.03603220446111832"
            ]
          },
          "metadata": {},
          "execution_count": 55
        }
      ]
    },
    {
      "cell_type": "code",
      "source": [
        "#comment 11:\n",
        "#Access the right child (rpt) of the root node.\n",
        "#If it exists, this will return the node stored on the right side of the root.\n",
        "#If the root has no right child, this will return None.\n",
        "bt1.root.rpt"
      ],
      "metadata": {
        "id": "FuAORfaV_c0l",
        "colab": {
          "base_uri": "https://localhost:8080/"
        },
        "outputId": "c66c5721-7a96-4bac-a691-03c069023d7a"
      },
      "execution_count": 56,
      "outputs": [
        {
          "output_type": "execute_result",
          "data": {
            "text/plain": [
              "0.6855343754450516"
            ]
          },
          "metadata": {},
          "execution_count": 56
        }
      ]
    },
    {
      "cell_type": "code",
      "source": [
        "# comment 12:\n",
        "#Define an Inorder traversal function (walktree).\n",
        "#If the current node is None, do nothing (base case).\n",
        "#Recursively visit the left subtree (walktree on left pointer).\n",
        "#Print the current node\n",
        "#Recursively visit the right subtree (walktree on right pointer).\n",
        "#This will print all the nodes of the tree in ascending order of their values.\n",
        "def walktree(nd):\n",
        "    if nd==None:\n",
        "        return\n",
        "    walktree(nd.lpt) #Visit left subtree\n",
        "    print(nd) #Visit current node\n",
        "    walktree(nd.rpt) #Visit right subtree"
      ],
      "metadata": {
        "id": "uHL-FstgAUT_"
      },
      "execution_count": 57,
      "outputs": []
    },
    {
      "cell_type": "code",
      "source": [
        "# comment 13:\n",
        "#Perform an Inorder traversal starting from the root of the tree.\n",
        "#This will recursively walk through the entire tree.\n",
        "#All node values will be printed in sorted order\n",
        "#50 random values printed in ascending order.\n",
        "walktree(bt1.root)"
      ],
      "metadata": {
        "id": "1bwamXxbAbrO",
        "colab": {
          "base_uri": "https://localhost:8080/"
        },
        "outputId": "793c506d-52b1-4359-b8ab-998c1fa07b0d"
      },
      "execution_count": 58,
      "outputs": [
        {
          "output_type": "stream",
          "name": "stdout",
          "text": [
            "-0.820099566260408\n",
            "-0.7710475173793556\n",
            "-0.7630370479678061\n",
            "-0.7588743129926943\n",
            "-0.6442408303657561\n",
            "-0.6144101231298402\n",
            "-0.5867884955147809\n",
            "-0.4758470337759111\n",
            "-0.45936953411358794\n",
            "-0.3890352236140122\n",
            "-0.34424019065172584\n",
            "-0.2897849907842591\n",
            "-0.256380234548667\n",
            "-0.2526232527678598\n",
            "-0.18677479193235924\n",
            "-0.14873659043990584\n",
            "-0.0972841827705222\n",
            "-0.09667940527122232\n",
            "-0.061395866094240414\n",
            "0.017565901074934276\n",
            "0.03603220446111832\n",
            "0.04280343831001665\n",
            "0.055330141895786555\n",
            "0.06605440637664994\n",
            "0.07901436468045886\n",
            "0.08758271221002434\n",
            "0.08825214606443987\n",
            "0.09602197878630503\n",
            "0.10944264150753336\n",
            "0.17933212087050632\n",
            "0.334636182464221\n",
            "0.3373931907645771\n",
            "0.3661485105962805\n",
            "0.38864045981613504\n",
            "0.3903121248158403\n",
            "0.39952865508132107\n",
            "0.44379544075953237\n",
            "0.5395187663285463\n",
            "0.5516084820947094\n",
            "0.5673564203303856\n",
            "0.6649794905038933\n",
            "0.6855343754450516\n",
            "0.7183902199289292\n",
            "0.7543694124945388\n",
            "0.8284866198012684\n",
            "0.8309759609768077\n",
            "0.85125217645535\n",
            "0.9228500948921385\n",
            "0.9232675054292974\n",
            "0.965437216666156\n"
          ]
        }
      ]
    },
    {
      "cell_type": "markdown",
      "source": [
        "# HW3.2 Binary Tree of Words\n",
        "Inspired by the example in HW3.1, implement another binary tree according to the following requirements:"
      ],
      "metadata": {
        "id": "9QNgmZ1H9Tan"
      }
    },
    {
      "cell_type": "markdown",
      "source": [
        "1. Create a class **Node**, for a tree node, containing **word** and **depth** attributes, and pointers **left** and **right** pointing to the left and right children nodes. Initialize **depth** with 0, and the pointers with **None**, and word with the passed parameter. Node class should include additionally a variable **count** indicating the number of times the word has been inserted into the tree i.e. counts the word ocurances.\n",
        "\n",
        "2. Create a binary tree class WBT (stands for Word Binary Tree) with nodes of  **Node** class, with all necessary methods (see example in HW3.1 and the skeleton code below). Note: to decide weather to add the word as the left or right child node use the comparison expression as in rec_add function as  'if new_node.word <= tree_node.word:'. A WBT tree should be populated using words longer than 3 characters - take this into account when inserting the word into the tree.\n",
        "\n",
        "3. Create one instance of WBT class and read in the file 'oceanDepths.words' and place the words in the instantiateed binary tree. While filling in the tree, keep track also of its **depth** value. Depth for the root node is 0, for the root's children nodes it is 1; in general: if the parent node has depth **i**, its children will have depth **i+1**. See the function signatures below.\n",
        "\n",
        "4. Traverse the created tree, and print the words whose depth is the same as the maximum depth i.e. equal to the height of the tree.\n",
        "\n",
        "The sceleton of the code and the signitures of the functions as well as the test code is given below. Comment and document all created functions and classes. Print out also the number of occurences of those words.\n",
        "\n"
      ],
      "metadata": {
        "id": "Rp9YQMiLmn9Y"
      }
    },
    {
      "cell_type": "code",
      "source": [
        "# Binary Tree Node Class\n",
        "class Node:\n",
        "    def __init__(self, word):\n",
        "      # add code #1:\n",
        "      \"\"\"\n",
        "      A single node in the Word Binary Tree (WBT).\n",
        "\n",
        "      Attributes:\n",
        "        word  (str): The string stored at this node.\n",
        "        depth (int): Depth of this node in the tree (root has depth 0).\n",
        "        left  (Node|None): Pointer to the left child.\n",
        "        right (Node|None): Pointer to the right child.\n",
        "        count (int): Number of times this exact word has been inserted.\n",
        "      \"\"\"\n",
        "      self.word = word\n",
        "      self.depth = 0\n",
        "      self.left = None\n",
        "      self.right = None\n",
        "      self.count = 1\n",
        "\n",
        "\n",
        "class WBT:\n",
        "\n",
        "  def __init__(self):\n",
        "  # add code #2:\n",
        "    \"\"\"\n",
        "    Word Binary Tree that stores words (length > 3) in a BST by lexicographic order.\n",
        "    Duplicate words increment a counter on the existing node rather than creating a new node.\n",
        "    Tracks the maximum depth reached (tree height).\n",
        "    \"\"\"\n",
        "    self.root = None\n",
        "    self.max_depth = 0\n",
        "\n",
        "\n",
        "  # Function to insert a word into the binary tree\n",
        "  def insert(self, root, word, depth):\n",
        "    # add code #3: (tip: look at  rec_add and add_item functions from M3_1)\n",
        "    \"\"\"\n",
        "    Recursively insert `word` starting at subtree `root`, assigning `depth` to the node.\n",
        "    Uses the rule: if new_node.word <= tree_node.word -> go left, else -> go right.\n",
        "    Updates self.max_depth whenever we place a node deeper than before.\n",
        "\n",
        "    Args:\n",
        "      root  (Node|None): current subtree root to insert into.\n",
        "      word  (str): word to insert.\n",
        "      depth (int): the depth the node at `root` should have.\n",
        "\n",
        "    Returns:\n",
        "      Node: (possibly new) root of this subtree after insertion.\n",
        "    \"\"\"\n",
        "    # If subtree is empty, create a new node here.\n",
        "    if root is None:\n",
        "      new_node = Node(word)\n",
        "      new_node.depth = depth\n",
        "      # Update max depth seen so far\n",
        "      if depth > self.max_depth:\n",
        "        self.max_depth = depth\n",
        "      return new_node\n",
        "\n",
        "    # Compare to decide direction (<= goes to the left)\n",
        "    if word == root.word:\n",
        "      # Same word: bump the occurrence count\n",
        "      root.count += 1\n",
        "      # Depth and max_depth unchanged\n",
        "    elif word <= root.word:\n",
        "      root.left = self.insert(root.left, word, depth + 1)\n",
        "    else:\n",
        "      root.right = self.insert(root.right, word, depth + 1)\n",
        "\n",
        "    return root\n",
        "\n",
        "\n",
        "  # Traverse the binary tree and print words at the maximum depth\n",
        "  def print_max_depth_words(self, root, max_depth):\n",
        "      # add code #4:\n",
        "      # tip: check if root is None; print if depth is max; recursevely\n",
        "      # call function for both child nodes if they are different from None\n",
        "      \"\"\"\n",
        "      In-order traversal that prints every word whose node.depth == max_depth.\n",
        "      Also prints the number of occurrences for those words.\n",
        "\n",
        "      Args:\n",
        "        root (Node|None): current node in traversal.\n",
        "        max_depth (int): maximum depth (height) of the tree.\n",
        "      \"\"\"\n",
        "      if root is None:\n",
        "        return\n",
        "\n",
        "      # Traverse left\n",
        "      self.print_max_depth_words(root.left, max_depth)\n",
        "\n",
        "      # Visit current\n",
        "      if root.depth == max_depth:\n",
        "        print(f\"{root.word} (count={root.count}, depth={root.depth})\")\n",
        "\n",
        "      # Traverse right\n",
        "      self.print_max_depth_words(root.right, max_depth)\n",
        "\n",
        "\n",
        "\n",
        "  # Create a binary tree from the file with the name filename\n",
        "  def create_binary_tree(self, filename):\n",
        "    # add code #5\n",
        "    \"\"\"\n",
        "    Builds the tree from the file `oceanDepths.words` (one word per line),\n",
        "    inserting only words of length > 3. Tracks and returns the root and max depth.\n",
        "\n",
        "    Returns:\n",
        "      (Node, int): (root, max_depth)\n",
        "    \"\"\"\n",
        "    root = None\n",
        "    max_depth = 0\n",
        "\n",
        "    # mount the google drive (see tutorial 2) and set the filename path\n",
        "    filename = \"/content/oceanDepths.words\" # fill in\n",
        "    # open the file and start reading word by word from it\n",
        "    with open(filename, \"r\") as file:\n",
        "        words = file.read().splitlines()\n",
        "\n",
        "    # create and populate the tree\n",
        "    for word in words:\n",
        "      if len(word) > 3:\n",
        "        # Start insertion from the root\n",
        "        self.root = self.insert(self.root, word, 0)\n",
        "        # Update maximum depth : max_depth\n",
        "        self.max_depth = max(self.max_depth, 0)\n",
        "\n",
        "    root = self.root\n",
        "    max_depth = self.max_depth\n",
        "\n",
        "    return root, max_depth\n"
      ],
      "metadata": {
        "id": "9ZvfbmYM7SSl"
      },
      "execution_count": 59,
      "outputs": []
    },
    {
      "cell_type": "code",
      "source": [
        "# testing:\n",
        "# Test your code\n",
        "if __name__ == \"__main__\":\n",
        "\n",
        "  # load file accordingly to your programming environment:\n",
        "  filename = \"oceanDepths.words\"\n",
        "  wbt = WBT()\n",
        "  root, max_depth = wbt.create_binary_tree(filename)\n",
        "\n",
        "  print(\"Words at maximum depth:\")\n",
        "  wbt.print_max_depth_words(root, max_depth)\n",
        "  # print out the number of occurences too"
      ],
      "metadata": {
        "colab": {
          "base_uri": "https://localhost:8080/"
        },
        "id": "UHC9Wguf7YM8",
        "outputId": "9fbe5b43-518d-4a17-aeb4-71d51db24b51"
      },
      "execution_count": 60,
      "outputs": [
        {
          "output_type": "stream",
          "name": "stdout",
          "text": [
            "Words at maximum depth:\n",
            "strike (count=1, depth=26)\n"
          ]
        }
      ]
    }
  ]
}