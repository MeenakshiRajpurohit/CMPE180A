{
  "nbformat": 4,
  "nbformat_minor": 0,
  "metadata": {
    "colab": {
      "provenance": [],
      "authorship_tag": "ABX9TyPhQkB5gewzcsvNOCCtGOG/",
      "include_colab_link": true
    },
    "kernelspec": {
      "name": "python3",
      "display_name": "Python 3"
    },
    "language_info": {
      "name": "python"
    }
  },
  "cells": [
    {
      "cell_type": "markdown",
      "metadata": {
        "id": "view-in-github",
        "colab_type": "text"
      },
      "source": [
        "<a href=\"https://colab.research.google.com/github/MeenakshiRajpurohit/CMPE180A/blob/main/lab_week2.ipynb\" target=\"_parent\"><img src=\"https://colab.research.google.com/assets/colab-badge.svg\" alt=\"Open In Colab\"/></a>"
      ]
    },
    {
      "cell_type": "code",
      "execution_count": null,
      "metadata": {
        "colab": {
          "base_uri": "https://localhost:8080/"
        },
        "id": "7RcFEy2WNTVt",
        "outputId": "ea98e654-5b4f-4af3-a6ee-e1474a1ac512"
      },
      "outputs": [
        {
          "output_type": "stream",
          "name": "stdout",
          "text": [
            "4 equals 2 * 2\n",
            "6 equals 2 * 3\n",
            "8 equals 2 * 4\n",
            "9 equals 3 * 3\n"
          ]
        }
      ],
      "source": [
        "#break and continue\n",
        "for n in range(2,10):\n",
        "  for x in range(2,n):\n",
        "    if n%x == 0:\n",
        "      print(f'{n} equals {x} * {n//x}')\n",
        "      break"
      ]
    },
    {
      "cell_type": "code",
      "source": [
        "for x in range(2, 10):\n",
        "  if x % 2 == 0:\n",
        "    print(f'{x} is even')\n",
        "    continue\n",
        "  print(f'{x} is odd')"
      ],
      "metadata": {
        "colab": {
          "base_uri": "https://localhost:8080/"
        },
        "id": "WHfYao8RNYo7",
        "outputId": "62622285-d109-419e-c110-9b4b7abb1858"
      },
      "execution_count": null,
      "outputs": [
        {
          "output_type": "stream",
          "name": "stdout",
          "text": [
            "2 is even\n",
            "3 is odd\n",
            "4 is even\n",
            "5 is odd\n",
            "6 is even\n",
            "7 is odd\n",
            "8 is even\n",
            "9 is odd\n"
          ]
        }
      ]
    },
    {
      "cell_type": "code",
      "source": [
        "#comprehension syntax\n",
        "squares = []\n",
        "\n",
        "for x in range(10):\n",
        "  squares.append(x * x)\n",
        "\n",
        "squares"
      ],
      "metadata": {
        "colab": {
          "base_uri": "https://localhost:8080/"
        },
        "id": "TWQRruxwNYly",
        "outputId": "2b1e7f62-0f8e-4bf5-dd2c-166d246f1c54"
      },
      "execution_count": null,
      "outputs": [
        {
          "output_type": "execute_result",
          "data": {
            "text/plain": [
              "[0, 1, 4, 9, 16, 25, 36, 49, 64, 81]"
            ]
          },
          "metadata": {},
          "execution_count": 7
        }
      ]
    },
    {
      "cell_type": "code",
      "source": [
        "squares = [x*x for x in range(10)]\n",
        "squares"
      ],
      "metadata": {
        "colab": {
          "base_uri": "https://localhost:8080/"
        },
        "id": "SixEcBk3NYiq",
        "outputId": "c57fb6d0-f80f-42c0-a1e0-1b05f88fe7ae"
      },
      "execution_count": null,
      "outputs": [
        {
          "output_type": "execute_result",
          "data": {
            "text/plain": [
              "[0, 1, 4, 9, 16, 25, 36, 49, 64, 81]"
            ]
          },
          "metadata": {},
          "execution_count": 9
        }
      ]
    },
    {
      "cell_type": "code",
      "source": [
        "#dict comprehension\n",
        "months_numbers = {\n",
        "    'January':1,\n",
        "    'February':2,\n",
        "    'March':3,\n",
        "    'April':4,\n",
        "    'May':5,\n",
        "    'June':6,\n",
        "    'July':7,\n",
        "    'August':8,\n",
        "    'September':9,\n",
        "    'October':10,\n",
        "    'November':11,\n",
        "    'December':12\n",
        "\n",
        "\n",
        "}\n",
        "#reverse the dict\n",
        "months_numbers = {val:key for key, val in months_numbers.items()}\n",
        "print(months_numbers)"
      ],
      "metadata": {
        "colab": {
          "base_uri": "https://localhost:8080/"
        },
        "id": "WJmqlXVENYfb",
        "outputId": "7904fdde-baf4-4eba-a558-345946e4bc8b"
      },
      "execution_count": null,
      "outputs": [
        {
          "output_type": "stream",
          "name": "stdout",
          "text": [
            "{1: 'January', 2: 'February', 3: 'March', 4: 'April', 5: 'May', 6: 'June', 7: 'July', 8: 'August', 9: 'September', 10: 'October', 11: 'November', 12: 'December'}\n"
          ]
        }
      ]
    },
    {
      "cell_type": "code",
      "source": [
        "#Advance looping\n",
        "#enumerate\n",
        "for i, v in enumerate(['January', 'February','March','December']):\n",
        "  print(i,v)"
      ],
      "metadata": {
        "colab": {
          "base_uri": "https://localhost:8080/"
        },
        "id": "TXE_81WB3hxL",
        "outputId": "f190dff0-c5b8-4142-e6da-b5d514f501aa"
      },
      "execution_count": null,
      "outputs": [
        {
          "output_type": "stream",
          "name": "stdout",
          "text": [
            "0 January\n",
            "1 February\n",
            "2 March\n",
            "3 December\n"
          ]
        }
      ]
    },
    {
      "cell_type": "code",
      "source": [
        "#zip\n",
        "questions = ['name', 'place', 'fav food']\n",
        "answers = ['meena', 'jodhpur', 'chai']\n",
        "for q, a in zip(questions, answers):\n",
        "  print('what is you {}?. it is {}'.format(q,a))"
      ],
      "metadata": {
        "colab": {
          "base_uri": "https://localhost:8080/"
        },
        "id": "IgvjgYEW4Dxe",
        "outputId": "ee86611e-1767-43e4-80cf-0a0ade7afb32"
      },
      "execution_count": null,
      "outputs": [
        {
          "output_type": "stream",
          "name": "stdout",
          "text": [
            "what is you name?. it is meena\n",
            "what is you place?. it is jodhpur\n",
            "what is you fav food?. it is chai\n"
          ]
        }
      ]
    },
    {
      "cell_type": "code",
      "source": [
        "#sorted\n",
        "basket = ['apple','orange','apple', 'pear', 'cheery']\n",
        "\n",
        "for fruit in sorted(set(basket)):\n",
        "  print(fruit)"
      ],
      "metadata": {
        "colab": {
          "base_uri": "https://localhost:8080/"
        },
        "id": "C9ZEilK15m66",
        "outputId": "330a190d-bedf-4cf5-b4fe-77da49155a1e"
      },
      "execution_count": null,
      "outputs": [
        {
          "output_type": "stream",
          "name": "stdout",
          "text": [
            "apple\n",
            "cheery\n",
            "orange\n",
            "pear\n"
          ]
        }
      ]
    },
    {
      "cell_type": "code",
      "source": [
        "#Lists\n",
        "A = [10, 3, 4, 4, 6, 7, 9, 1, 1, 23, 12, 10]"
      ],
      "metadata": {
        "id": "G35CjDDX6XKw"
      },
      "execution_count": null,
      "outputs": []
    },
    {
      "cell_type": "code",
      "source": [
        "a1 = A[2:4]\n",
        "a1"
      ],
      "metadata": {
        "colab": {
          "base_uri": "https://localhost:8080/"
        },
        "id": "pSjzC9nk6x7T",
        "outputId": "c1c38be1-001b-45c8-d201-8da6acce302c"
      },
      "execution_count": null,
      "outputs": [
        {
          "output_type": "execute_result",
          "data": {
            "text/plain": [
              "[4, 4]"
            ]
          },
          "metadata": {},
          "execution_count": 21
        }
      ]
    },
    {
      "cell_type": "code",
      "source": [
        "a2 = A[2:]\n",
        "a2"
      ],
      "metadata": {
        "colab": {
          "base_uri": "https://localhost:8080/"
        },
        "id": "dSKYa6c57FmH",
        "outputId": "c3f6695d-6123-4849-96ed-efa0b99e15ad"
      },
      "execution_count": null,
      "outputs": [
        {
          "output_type": "execute_result",
          "data": {
            "text/plain": [
              "[4, 4, 6, 7, 9, 1, 1, 23, 12, 10]"
            ]
          },
          "metadata": {},
          "execution_count": 22
        }
      ]
    },
    {
      "cell_type": "code",
      "source": [
        "a3 = A[:2]\n",
        "a3"
      ],
      "metadata": {
        "colab": {
          "base_uri": "https://localhost:8080/"
        },
        "id": "OfsiJ86a7MgJ",
        "outputId": "057b9790-b3c3-4205-f676-215b1bc5b4ed"
      },
      "execution_count": null,
      "outputs": [
        {
          "output_type": "execute_result",
          "data": {
            "text/plain": [
              "[10, 3]"
            ]
          },
          "metadata": {},
          "execution_count": 23
        }
      ]
    },
    {
      "cell_type": "code",
      "source": [
        "a4 = A[:-1]\n",
        "a4"
      ],
      "metadata": {
        "colab": {
          "base_uri": "https://localhost:8080/"
        },
        "id": "5SBpVyF67Zyd",
        "outputId": "7cbfbf74-8253-4d8a-8f8f-b6da503c929e"
      },
      "execution_count": null,
      "outputs": [
        {
          "output_type": "execute_result",
          "data": {
            "text/plain": [
              "[10, 3, 4, 4, 6, 7, 9, 1, 1, 23, 12]"
            ]
          },
          "metadata": {},
          "execution_count": 25
        }
      ]
    },
    {
      "cell_type": "code",
      "source": [
        "my_list = [1,2, 3,4]\n",
        "big_list = [my_list]*3\n",
        "big_list"
      ],
      "metadata": {
        "colab": {
          "base_uri": "https://localhost:8080/"
        },
        "id": "4Ick5wGb7wrJ",
        "outputId": "27c4aed3-5fba-4879-d48d-2026dde38855"
      },
      "execution_count": null,
      "outputs": [
        {
          "output_type": "execute_result",
          "data": {
            "text/plain": [
              "[[1, 2, 3, 4], [1, 2, 3, 4], [1, 2, 3, 4]]"
            ]
          },
          "metadata": {},
          "execution_count": 26
        }
      ]
    },
    {
      "cell_type": "code",
      "source": [
        "big_list0 = [0] * 10\n",
        "big_list0"
      ],
      "metadata": {
        "colab": {
          "base_uri": "https://localhost:8080/"
        },
        "id": "-c_em5VJ7Mc_",
        "outputId": "a856cae5-5717-402c-abb9-9e78cbba6687"
      },
      "execution_count": null,
      "outputs": [
        {
          "output_type": "execute_result",
          "data": {
            "text/plain": [
              "[0, 0, 0, 0, 0, 0, 0, 0, 0, 0]"
            ]
          },
          "metadata": {},
          "execution_count": 27
        }
      ]
    },
    {
      "cell_type": "code",
      "source": [
        "my_list = [1024, 'my', 3, 9]\n",
        "my_list.append(False)\n",
        "my_list.append('koo')\n",
        "my_list.insert(7,8)\n",
        "my_list"
      ],
      "metadata": {
        "colab": {
          "base_uri": "https://localhost:8080/"
        },
        "id": "9QzPN4f17MZ_",
        "outputId": "89f9e3bf-ef61-4d06-d0bb-e9ae01e1fa97"
      },
      "execution_count": null,
      "outputs": [
        {
          "output_type": "execute_result",
          "data": {
            "text/plain": [
              "[1024, 'my', 3, 9, False, 'koo', 8]"
            ]
          },
          "metadata": {},
          "execution_count": 33
        }
      ]
    },
    {
      "cell_type": "code",
      "source": [
        "my_list.pop()\n",
        "my_list"
      ],
      "metadata": {
        "colab": {
          "base_uri": "https://localhost:8080/"
        },
        "id": "Tza8Za1H9BTr",
        "outputId": "84f33938-9005-40bf-de41-764f86ca4073"
      },
      "execution_count": null,
      "outputs": [
        {
          "output_type": "execute_result",
          "data": {
            "text/plain": [
              "[1024, 'my', 3, 9]"
            ]
          },
          "metadata": {},
          "execution_count": 36
        }
      ]
    },
    {
      "cell_type": "code",
      "source": [
        "my_list.reverse()\n",
        "my_list"
      ],
      "metadata": {
        "colab": {
          "base_uri": "https://localhost:8080/"
        },
        "id": "22H5MW679BOz",
        "outputId": "1d3450db-078f-4d4f-ef76-45452f8b658d"
      },
      "execution_count": null,
      "outputs": [
        {
          "output_type": "execute_result",
          "data": {
            "text/plain": [
              "[9, 3, 'my', 1024]"
            ]
          },
          "metadata": {},
          "execution_count": 40
        }
      ]
    },
    {
      "cell_type": "code",
      "source": [
        "#append vs extend\n",
        "lst = [1,2]\n",
        "lst.append([3,4])\n",
        "lst"
      ],
      "metadata": {
        "colab": {
          "base_uri": "https://localhost:8080/"
        },
        "id": "HsXnqTGf9BJo",
        "outputId": "cbd12d14-ae6a-4f15-fe0a-70dfff259048"
      },
      "execution_count": null,
      "outputs": [
        {
          "output_type": "execute_result",
          "data": {
            "text/plain": [
              "[1, 2, [3, 4]]"
            ]
          },
          "metadata": {},
          "execution_count": 41
        }
      ]
    },
    {
      "cell_type": "code",
      "source": [
        "lst = [1,2]\n",
        "lst.extend([3,4])\n",
        "lst"
      ],
      "metadata": {
        "colab": {
          "base_uri": "https://localhost:8080/"
        },
        "id": "WBmxTQhI9BFc",
        "outputId": "b515b253-c752-4bf5-d181-fa00ace3131c"
      },
      "execution_count": null,
      "outputs": [
        {
          "output_type": "execute_result",
          "data": {
            "text/plain": [
              "[1, 2, 3, 4]"
            ]
          },
          "metadata": {},
          "execution_count": 42
        }
      ]
    },
    {
      "cell_type": "markdown",
      "source": [
        "Iterate over a list of strings and for each string add each character to a list"
      ],
      "metadata": {
        "id": "qm8Q3imN_pAg"
      }
    },
    {
      "cell_type": "code",
      "source": [
        "word_list = ['cat','bat']\n",
        "letter_list = []\n",
        "for word in word_list:\n",
        "  for ch in word:\n",
        "    letter_list.append(ch)\n",
        "print(letter_list)"
      ],
      "metadata": {
        "colab": {
          "base_uri": "https://localhost:8080/"
        },
        "id": "5D9_nPF__ZrZ",
        "outputId": "b61d3d0f-3b23-4c9a-9056-7d9c444fdefd"
      },
      "execution_count": null,
      "outputs": [
        {
          "output_type": "stream",
          "name": "stdout",
          "text": [
            "['c', 'a', 't', 'b', 'a', 't']\n"
          ]
        }
      ]
    },
    {
      "cell_type": "code",
      "source": [
        "#unique letter\n",
        "\n",
        "word_list = ['cat', 'mat', 'bat', 'fat']\n",
        "unique_letter_list = []\n",
        "\n",
        "for word in word_list:\n",
        "  for ch in word:\n",
        "    if ch not in unique_letter_list:\n",
        "      unique_letter_list.append(ch)\n",
        "unique_letter_list"
      ],
      "metadata": {
        "colab": {
          "base_uri": "https://localhost:8080/"
        },
        "id": "jM8UnyGVM6GF",
        "outputId": "9cbd80f4-e830-4e31-9cf7-1fc0c163cbab"
      },
      "execution_count": null,
      "outputs": [
        {
          "output_type": "execute_result",
          "data": {
            "text/plain": [
              "['c', 'a', 't', 'm', 'b', 'f']"
            ]
          },
          "metadata": {},
          "execution_count": 44
        }
      ]
    },
    {
      "cell_type": "code",
      "source": [
        "ls = list(''.join(x for x in word_list))\n",
        "ls"
      ],
      "metadata": {
        "colab": {
          "base_uri": "https://localhost:8080/"
        },
        "id": "vYDwBgyHPimN",
        "outputId": "3e790df2-dba6-411f-f3fd-79678dfe5fc8"
      },
      "execution_count": null,
      "outputs": [
        {
          "output_type": "execute_result",
          "data": {
            "text/plain": [
              "['c', 'a', 't', 'm', 'a', 't', 'b', 'a', 't', 'f', 'a', 't']"
            ]
          },
          "metadata": {},
          "execution_count": 45
        }
      ]
    },
    {
      "cell_type": "code",
      "source": [
        "tmp = ''.join(x for x in word_list)\n",
        "tmp"
      ],
      "metadata": {
        "colab": {
          "base_uri": "https://localhost:8080/",
          "height": 36
        },
        "id": "BjNlVNB5Pv2W",
        "outputId": "2b8f575b-86a3-48ea-bbb9-ddfd8e9baa41"
      },
      "execution_count": null,
      "outputs": [
        {
          "output_type": "execute_result",
          "data": {
            "text/plain": [
              "'catmatbatfat'"
            ],
            "application/vnd.google.colaboratory.intrinsic+json": {
              "type": "string"
            }
          },
          "metadata": {},
          "execution_count": 46
        }
      ]
    },
    {
      "cell_type": "markdown",
      "source": [
        "#try and except"
      ],
      "metadata": {
        "id": "4vcWP_IKRFAj"
      }
    },
    {
      "cell_type": "code",
      "source": [
        "import math\n",
        "a_number = -5\n",
        "try:\n",
        "  print(math.sqrt(a_number))\n",
        "except:\n",
        "  print('bad value for the sqaure root function')\n",
        "  print('using the absolute value instead')\n",
        "  print(math.sqrt(abs(a_number)))"
      ],
      "metadata": {
        "colab": {
          "base_uri": "https://localhost:8080/"
        },
        "id": "Cqf43ylpRKHA",
        "outputId": "05be9b2e-3ef6-41a1-e22a-7af71a611362"
      },
      "execution_count": null,
      "outputs": [
        {
          "output_type": "stream",
          "name": "stdout",
          "text": [
            "bad value for the sqaure root function\n",
            "using the absolute value instead\n",
            "2.23606797749979\n"
          ]
        }
      ]
    },
    {
      "cell_type": "code",
      "source": [
        "while True:\n",
        "  try:\n",
        "      age = int(input('How old are you?'))\n",
        "      break\n",
        "  except ValueError:\n",
        "    print('That is not valid age')"
      ],
      "metadata": {
        "colab": {
          "base_uri": "https://localhost:8080/"
        },
        "id": "wlF4EyxLSBg0",
        "outputId": "35c41dbd-260d-482b-a3c7-428b05198487"
      },
      "execution_count": null,
      "outputs": [
        {
          "name": "stdout",
          "output_type": "stream",
          "text": [
            "How old are you?a\n",
            "That is not valid age\n",
            "How old are you?2\n"
          ]
        }
      ]
    },
    {
      "cell_type": "code",
      "source": [
        "#Multiple except statements\n",
        "num = float(input(\"number num\"))\n",
        "denom = float(input(\"number denom\"))\n",
        "print(\"{}/{} = {}\".format(num,denom, num/denom))"
      ],
      "metadata": {
        "id": "-i_j9lKKSwMg",
        "colab": {
          "base_uri": "https://localhost:8080/",
          "height": 241
        },
        "outputId": "3f9d374e-e5e8-451a-fb13-5e9a28e80de3"
      },
      "execution_count": null,
      "outputs": [
        {
          "name": "stdout",
          "output_type": "stream",
          "text": [
            "number num3\n",
            "number denom0\n"
          ]
        },
        {
          "output_type": "error",
          "ename": "ZeroDivisionError",
          "evalue": "float division by zero",
          "traceback": [
            "\u001b[0;31m---------------------------------------------------------------------------\u001b[0m",
            "\u001b[0;31mZeroDivisionError\u001b[0m                         Traceback (most recent call last)",
            "\u001b[0;32m/tmp/ipython-input-846256278.py\u001b[0m in \u001b[0;36m<cell line: 0>\u001b[0;34m()\u001b[0m\n\u001b[1;32m      2\u001b[0m \u001b[0mnum\u001b[0m \u001b[0;34m=\u001b[0m \u001b[0mfloat\u001b[0m\u001b[0;34m(\u001b[0m\u001b[0minput\u001b[0m\u001b[0;34m(\u001b[0m\u001b[0;34m\"number num\"\u001b[0m\u001b[0;34m)\u001b[0m\u001b[0;34m)\u001b[0m\u001b[0;34m\u001b[0m\u001b[0;34m\u001b[0m\u001b[0m\n\u001b[1;32m      3\u001b[0m \u001b[0mdenom\u001b[0m \u001b[0;34m=\u001b[0m \u001b[0mfloat\u001b[0m\u001b[0;34m(\u001b[0m\u001b[0minput\u001b[0m\u001b[0;34m(\u001b[0m\u001b[0;34m\"number denom\"\u001b[0m\u001b[0;34m)\u001b[0m\u001b[0;34m)\u001b[0m\u001b[0;34m\u001b[0m\u001b[0;34m\u001b[0m\u001b[0m\n\u001b[0;32m----> 4\u001b[0;31m \u001b[0mprint\u001b[0m\u001b[0;34m(\u001b[0m\u001b[0;34m\"{}/{} = {}\"\u001b[0m\u001b[0;34m.\u001b[0m\u001b[0mformat\u001b[0m\u001b[0;34m(\u001b[0m\u001b[0mnum\u001b[0m\u001b[0;34m,\u001b[0m\u001b[0mdenom\u001b[0m\u001b[0;34m,\u001b[0m \u001b[0mnum\u001b[0m\u001b[0;34m/\u001b[0m\u001b[0mdenom\u001b[0m\u001b[0;34m)\u001b[0m\u001b[0;34m)\u001b[0m\u001b[0;34m\u001b[0m\u001b[0;34m\u001b[0m\u001b[0m\n\u001b[0m",
            "\u001b[0;31mZeroDivisionError\u001b[0m: float division by zero"
          ]
        }
      ]
    },
    {
      "cell_type": "code",
      "source": [
        "while True:\n",
        "  try:\n",
        "    num = float(input('number num'))\n",
        "    denom = float(input('number denom'))\n",
        "    print('{}/{}={}'.format(num,denom,num/denom))\n",
        "    break\n",
        "\n",
        "  except ValueError:\n",
        "    print('plz enter a valid float')\n",
        "  except ZeroDivisionError:\n",
        "    print('the denm can not be zero')"
      ],
      "metadata": {
        "colab": {
          "base_uri": "https://localhost:8080/"
        },
        "id": "mSGg159gJFH2",
        "outputId": "f5fb6ee6-49b5-494c-830f-b35303d1151b"
      },
      "execution_count": null,
      "outputs": [
        {
          "output_type": "stream",
          "name": "stdout",
          "text": [
            "number num2\n",
            "number denom0\n",
            "the denm can not be zero\n",
            "number num0\n",
            "number denom0\n",
            "the denm can not be zero\n",
            "number num4\n",
            "number denom4\n",
            "4.0/4.0=1.0\n"
          ]
        }
      ]
    },
    {
      "cell_type": "code",
      "source": [
        "def dotProduct(a, b):\n",
        "  return a\n",
        "\n",
        "x = [1, 2, 3]\n",
        "y = [4, 5, 6]\n",
        "\n",
        "print(dotProduct(x, y))"
      ],
      "metadata": {
        "colab": {
          "base_uri": "https://localhost:8080/"
        },
        "id": "uGwAlcS9NQmW",
        "outputId": "c3b55492-d11c-4bb3-92fb-77ba3f917e29"
      },
      "execution_count": null,
      "outputs": [
        {
          "output_type": "stream",
          "name": "stdout",
          "text": [
            "[1, 2, 3]\n"
          ]
        }
      ]
    },
    {
      "cell_type": "code",
      "source": [
        "#functions\n",
        "def factors1(n):\n",
        "  results = []\n",
        "  for k in range(1, n + 1):\n",
        "    if n % k == 0:\n",
        "      results.append(k)\n",
        "  return results"
      ],
      "metadata": {
        "id": "G1E_-2s0VBci"
      },
      "execution_count": null,
      "outputs": []
    },
    {
      "cell_type": "code",
      "source": [
        "def factors2(n):\n",
        "  for k in range(1, n+1):\n",
        "    if n%k ==0:\n",
        "      yield"
      ],
      "metadata": {
        "id": "4DW0Ice5b78s"
      },
      "execution_count": null,
      "outputs": []
    },
    {
      "cell_type": "code",
      "source": [
        "def factors3(n):\n",
        "  k = 1\n",
        "  while k * k < n:\n",
        "    if n % k == 0:\n",
        "      yield k\n",
        "      yield n // k\n",
        "    k = k + 1\n",
        "  if k * k == n:\n",
        "    yield k"
      ],
      "metadata": {
        "id": "qZQa-gCLb726"
      },
      "execution_count": null,
      "outputs": []
    },
    {
      "cell_type": "code",
      "source": [
        "factors1(50)"
      ],
      "metadata": {
        "colab": {
          "base_uri": "https://localhost:8080/"
        },
        "id": "MiKHOCNtb7xr",
        "outputId": "6830ce18-9cf0-4d8a-e3e1-84713e4de7d3"
      },
      "execution_count": null,
      "outputs": [
        {
          "output_type": "execute_result",
          "data": {
            "text/plain": [
              "[1, 2, 5, 10, 25, 50]"
            ]
          },
          "metadata": {},
          "execution_count": 4
        }
      ]
    },
    {
      "cell_type": "code",
      "source": [
        "factors2(50)"
      ],
      "metadata": {
        "colab": {
          "base_uri": "https://localhost:8080/"
        },
        "id": "XlZqAQf5b7sl",
        "outputId": "8b53a4c6-ba21-4cc3-d67b-1eebab8ef6bb"
      },
      "execution_count": null,
      "outputs": [
        {
          "output_type": "execute_result",
          "data": {
            "text/plain": [
              "<generator object factors2 at 0x799e6d2235a0>"
            ]
          },
          "metadata": {},
          "execution_count": 5
        }
      ]
    },
    {
      "cell_type": "code",
      "source": [
        "factors3(50)"
      ],
      "metadata": {
        "colab": {
          "base_uri": "https://localhost:8080/"
        },
        "id": "7ng0cuC1b7ng",
        "outputId": "c364662c-8412-48a2-ef01-6752842899db"
      },
      "execution_count": null,
      "outputs": [
        {
          "output_type": "execute_result",
          "data": {
            "text/plain": [
              "<generator object factors3 at 0x799e6d252d40>"
            ]
          },
          "metadata": {},
          "execution_count": 8
        }
      ]
    }
  ]
}